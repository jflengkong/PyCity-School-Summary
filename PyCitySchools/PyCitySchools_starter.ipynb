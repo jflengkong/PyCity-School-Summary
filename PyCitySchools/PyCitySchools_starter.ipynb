{
 "cells": [
  {
   "cell_type": "markdown",
   "metadata": {},
   "source": [
    "### Note\n",
    "* Instructions have been included for each segment. You do not have to follow them exactly, but they are included to help you think through the steps."
   ]
  },
  {
   "cell_type": "code",
   "execution_count": 1,
   "metadata": {
    "tags": []
   },
   "outputs": [],
   "source": [
    "# Dependencies and Setup\n",
    "import pandas as pd\n",
    "from pathlib import Path\n",
    "\n",
    "# File to Load (Remember to Change These)\n",
    "school_data_to_load = Path(\"Resources/schools_complete.csv\")\n",
    "student_data_to_load = Path(\"Resources/students_complete.csv\")\n",
    "\n",
    "# Read School and Student Data File and store into Pandas DataFrames\n",
    "school_data = pd.read_csv(school_data_to_load)\n",
    "student_data = pd.read_csv(student_data_to_load)\n",
    "\n",
    "# Combine the data into a single dataset.  \n",
    "school_data_complete = pd.merge(student_data, school_data, how=\"left\", on=[\"school_name\", \"school_name\"])"
   ]
  },
  {
   "cell_type": "code",
   "execution_count": 2,
   "metadata": {
    "tags": []
   },
   "outputs": [
    {
     "data": {
      "text/html": [
       "<div>\n",
       "<style scoped>\n",
       "    .dataframe tbody tr th:only-of-type {\n",
       "        vertical-align: middle;\n",
       "    }\n",
       "\n",
       "    .dataframe tbody tr th {\n",
       "        vertical-align: top;\n",
       "    }\n",
       "\n",
       "    .dataframe thead th {\n",
       "        text-align: right;\n",
       "    }\n",
       "</style>\n",
       "<table border=\"1\" class=\"dataframe\">\n",
       "  <thead>\n",
       "    <tr style=\"text-align: right;\">\n",
       "      <th></th>\n",
       "      <th>Student ID</th>\n",
       "      <th>student_name</th>\n",
       "      <th>gender</th>\n",
       "      <th>year</th>\n",
       "      <th>school_name</th>\n",
       "      <th>reading_score</th>\n",
       "      <th>maths_score</th>\n",
       "      <th>School ID</th>\n",
       "      <th>type</th>\n",
       "      <th>size</th>\n",
       "      <th>budget</th>\n",
       "    </tr>\n",
       "  </thead>\n",
       "  <tbody>\n",
       "    <tr>\n",
       "      <th>0</th>\n",
       "      <td>0</td>\n",
       "      <td>Paul Bradley</td>\n",
       "      <td>M</td>\n",
       "      <td>9</td>\n",
       "      <td>Huang High School</td>\n",
       "      <td>96</td>\n",
       "      <td>94</td>\n",
       "      <td>0</td>\n",
       "      <td>Government</td>\n",
       "      <td>2917</td>\n",
       "      <td>1910635</td>\n",
       "    </tr>\n",
       "    <tr>\n",
       "      <th>1</th>\n",
       "      <td>1</td>\n",
       "      <td>Victor Smith</td>\n",
       "      <td>M</td>\n",
       "      <td>12</td>\n",
       "      <td>Huang High School</td>\n",
       "      <td>90</td>\n",
       "      <td>43</td>\n",
       "      <td>0</td>\n",
       "      <td>Government</td>\n",
       "      <td>2917</td>\n",
       "      <td>1910635</td>\n",
       "    </tr>\n",
       "    <tr>\n",
       "      <th>2</th>\n",
       "      <td>2</td>\n",
       "      <td>Kevin Rodriguez</td>\n",
       "      <td>M</td>\n",
       "      <td>12</td>\n",
       "      <td>Huang High School</td>\n",
       "      <td>41</td>\n",
       "      <td>76</td>\n",
       "      <td>0</td>\n",
       "      <td>Government</td>\n",
       "      <td>2917</td>\n",
       "      <td>1910635</td>\n",
       "    </tr>\n",
       "    <tr>\n",
       "      <th>3</th>\n",
       "      <td>3</td>\n",
       "      <td>Richard Scott</td>\n",
       "      <td>M</td>\n",
       "      <td>12</td>\n",
       "      <td>Huang High School</td>\n",
       "      <td>89</td>\n",
       "      <td>86</td>\n",
       "      <td>0</td>\n",
       "      <td>Government</td>\n",
       "      <td>2917</td>\n",
       "      <td>1910635</td>\n",
       "    </tr>\n",
       "    <tr>\n",
       "      <th>4</th>\n",
       "      <td>4</td>\n",
       "      <td>Bonnie Ray</td>\n",
       "      <td>F</td>\n",
       "      <td>9</td>\n",
       "      <td>Huang High School</td>\n",
       "      <td>87</td>\n",
       "      <td>69</td>\n",
       "      <td>0</td>\n",
       "      <td>Government</td>\n",
       "      <td>2917</td>\n",
       "      <td>1910635</td>\n",
       "    </tr>\n",
       "  </tbody>\n",
       "</table>\n",
       "</div>"
      ],
      "text/plain": [
       "   Student ID     student_name gender  year        school_name  reading_score  \\\n",
       "0           0     Paul Bradley      M     9  Huang High School             96   \n",
       "1           1     Victor Smith      M    12  Huang High School             90   \n",
       "2           2  Kevin Rodriguez      M    12  Huang High School             41   \n",
       "3           3    Richard Scott      M    12  Huang High School             89   \n",
       "4           4       Bonnie Ray      F     9  Huang High School             87   \n",
       "\n",
       "   maths_score  School ID        type  size   budget  \n",
       "0           94          0  Government  2917  1910635  \n",
       "1           43          0  Government  2917  1910635  \n",
       "2           76          0  Government  2917  1910635  \n",
       "3           86          0  Government  2917  1910635  \n",
       "4           69          0  Government  2917  1910635  "
      ]
     },
     "execution_count": 2,
     "metadata": {},
     "output_type": "execute_result"
    }
   ],
   "source": [
    "#Check data frame import \n",
    "school_data_complete.head()"
   ]
  },
  {
   "cell_type": "markdown",
   "metadata": {
    "tags": []
   },
   "source": [
    "## Local Government Area Summary\n",
    "\n",
    "* Calculate the total number of schools\n",
    "\n",
    "* Calculate the total number of students\n",
    "\n",
    "* Calculate the total budget\n",
    "\n",
    "* Calculate the average maths score \n",
    "\n",
    "* Calculate the average reading score\n",
    "\n",
    "* Calculate the percentage of students with a passing maths score (50 or greater)\n",
    "\n",
    "* Calculate the percentage of students with a passing reading score (50 or greater)\n",
    "\n",
    "* Calculate the percentage of students who passed maths **and** reading (% Overall Passing)\n",
    "\n",
    "* Create a dataframe to hold the above results\n",
    "\n",
    "* Optional: give the displayed data cleaner formatting"
   ]
  },
  {
   "cell_type": "code",
   "execution_count": 3,
   "metadata": {
    "tags": []
   },
   "outputs": [
    {
     "data": {
      "text/plain": [
       "array(['Huang High School', 'Figueroa High School', 'Shelton High School',\n",
       "       'Hernandez High School', 'Griffin High School',\n",
       "       'Wilson High School', 'Cabrera High School', 'Bailey High School',\n",
       "       'Holden High School', 'Pena High School', 'Wright High School',\n",
       "       'Rodriguez High School', 'Johnson High School', 'Ford High School',\n",
       "       'Thomas High School'], dtype=object)"
      ]
     },
     "execution_count": 3,
     "metadata": {},
     "output_type": "execute_result"
    }
   ],
   "source": [
    "school_data['school_name'].unique()"
   ]
  },
  {
   "cell_type": "code",
   "execution_count": 4,
   "metadata": {
    "tags": []
   },
   "outputs": [
    {
     "name": "stdout",
     "output_type": "stream",
     "text": [
      "15\n",
      "15\n"
     ]
    }
   ],
   "source": [
    "#Check both dataframes have same number of schools \n",
    "print(len(school_data[\"school_name\"].unique()))\n",
    "print(len(school_data_complete[\"school_name\"].unique()))"
   ]
  },
  {
   "cell_type": "code",
   "execution_count": 5,
   "metadata": {
    "tags": []
   },
   "outputs": [
    {
     "data": {
      "text/plain": [
       "15"
      ]
     },
     "execution_count": 5,
     "metadata": {},
     "output_type": "execute_result"
    }
   ],
   "source": [
    "#Calculate the total number of schools \n",
    "total_schools= len(school_data_complete[\"school_name\"].value_counts())\n",
    "total_schools"
   ]
  },
  {
   "cell_type": "code",
   "execution_count": 6,
   "metadata": {
    "tags": []
   },
   "outputs": [
    {
     "data": {
      "text/plain": [
       "39170"
      ]
     },
     "execution_count": 6,
     "metadata": {},
     "output_type": "execute_result"
    }
   ],
   "source": [
    "#Calculate the total number of students\n",
    "total_students = len(school_data_complete[\"Student ID\"].value_counts())\n",
    "total_students"
   ]
  },
  {
   "cell_type": "code",
   "execution_count": 7,
   "metadata": {
    "tags": []
   },
   "outputs": [
    {
     "data": {
      "text/plain": [
       "24649428"
      ]
     },
     "execution_count": 7,
     "metadata": {},
     "output_type": "execute_result"
    }
   ],
   "source": [
    "#Calculate the total budget \n",
    "total_budget = school_data[\"budget\"].sum()\n",
    "total_budget"
   ]
  },
  {
   "cell_type": "code",
   "execution_count": 8,
   "metadata": {
    "tags": []
   },
   "outputs": [
    {
     "data": {
      "text/plain": [
       "70.33819249425581"
      ]
     },
     "execution_count": 8,
     "metadata": {},
     "output_type": "execute_result"
    }
   ],
   "source": [
    "#Calculate the average math score \n",
    "average_maths_score = school_data_complete[\"maths_score\"].mean()\n",
    "average_maths_score"
   ]
  },
  {
   "cell_type": "code",
   "execution_count": 9,
   "metadata": {
    "tags": []
   },
   "outputs": [
    {
     "data": {
      "text/plain": [
       "69.98013786060761"
      ]
     },
     "execution_count": 9,
     "metadata": {},
     "output_type": "execute_result"
    }
   ],
   "source": [
    "#Calculate the average reading score\n",
    "average_reading_score = school_data_complete[\"reading_score\"].mean()\n",
    "average_reading_score"
   ]
  },
  {
   "cell_type": "code",
   "execution_count": 10,
   "metadata": {
    "tags": []
   },
   "outputs": [
    {
     "data": {
      "text/plain": [
       "86.07863160582077"
      ]
     },
     "execution_count": 10,
     "metadata": {},
     "output_type": "execute_result"
    }
   ],
   "source": [
    "#Calculate the percentage of students with a passing math score (>=50) \n",
    "maths_pass = school_data_complete[\"maths_score\"] >=50\n",
    "pass_maths_percentage = (maths_pass.sum()/total_students)*100\n",
    "pass_maths_percentage"
   ]
  },
  {
   "cell_type": "code",
   "execution_count": 11,
   "metadata": {
    "tags": []
   },
   "outputs": [
    {
     "data": {
      "text/plain": [
       "84.42685728874139"
      ]
     },
     "execution_count": 11,
     "metadata": {},
     "output_type": "execute_result"
    }
   ],
   "source": [
    "#Calculate the percentage of students with a passing reading score (>=50) \n",
    "reading_pass= school_data_complete[\"reading_score\"] >=50\n",
    "pass_reading_percentage = (reading_pass.sum()/total_students)*100\n",
    "pass_reading_percentage"
   ]
  },
  {
   "cell_type": "code",
   "execution_count": 12,
   "metadata": {
    "tags": []
   },
   "outputs": [
    {
     "data": {
      "text/plain": [
       "72.80827163645647"
      ]
     },
     "execution_count": 12,
     "metadata": {},
     "output_type": "execute_result"
    }
   ],
   "source": [
    "#Calculate the percentage of students who passed both maths and reading (%Overall Passing) \n",
    "pass_both_total = ((maths_pass) & (reading_pass)).sum()\n",
    "pass_both_percentage = (pass_both_total/total_students)*100\n",
    "pass_both_percentage"
   ]
  },
  {
   "cell_type": "code",
   "execution_count": 13,
   "metadata": {
    "tags": []
   },
   "outputs": [
    {
     "data": {
      "text/html": [
       "<div>\n",
       "<style scoped>\n",
       "    .dataframe tbody tr th:only-of-type {\n",
       "        vertical-align: middle;\n",
       "    }\n",
       "\n",
       "    .dataframe tbody tr th {\n",
       "        vertical-align: top;\n",
       "    }\n",
       "\n",
       "    .dataframe thead th {\n",
       "        text-align: right;\n",
       "    }\n",
       "</style>\n",
       "<table border=\"1\" class=\"dataframe\">\n",
       "  <thead>\n",
       "    <tr style=\"text-align: right;\">\n",
       "      <th></th>\n",
       "      <th>Total Schools</th>\n",
       "      <th>Total Students</th>\n",
       "      <th>Total Budget</th>\n",
       "      <th>Average Maths Score</th>\n",
       "      <th>Average Reading Score</th>\n",
       "      <th>Passing Maths (%)</th>\n",
       "      <th>Passing Reading (%)</th>\n",
       "      <th>Overall Passing (%)</th>\n",
       "    </tr>\n",
       "  </thead>\n",
       "  <tbody>\n",
       "    <tr>\n",
       "      <th>0</th>\n",
       "      <td>15</td>\n",
       "      <td>39,170</td>\n",
       "      <td>$24,649,428</td>\n",
       "      <td>70.34%</td>\n",
       "      <td>69.98%</td>\n",
       "      <td>86.08%</td>\n",
       "      <td>84.43%</td>\n",
       "      <td>72.81%</td>\n",
       "    </tr>\n",
       "  </tbody>\n",
       "</table>\n",
       "</div>"
      ],
      "text/plain": [
       "   Total Schools Total Students Total Budget Average Maths Score  \\\n",
       "0             15         39,170  $24,649,428              70.34%   \n",
       "\n",
       "  Average Reading Score Passing Maths (%) Passing Reading (%)  \\\n",
       "0                69.98%            86.08%              84.43%   \n",
       "\n",
       "  Overall Passing (%)  \n",
       "0              72.81%  "
      ]
     },
     "execution_count": 13,
     "metadata": {},
     "output_type": "execute_result"
    }
   ],
   "source": [
    "#Create a dataframge to hold the LGA Summary called area_summary \n",
    "area_summary = {\"Total Schools\" : total_schools,\n",
    "                            \"Total Students\": [total_students],\n",
    "                            \"Total Budget\": total_budget,\n",
    "                            \"Average Maths Score\" : average_maths_score,\n",
    "                            \"Average Reading Score\" : average_reading_score,\n",
    "                            \"Passing Maths (%)\" : pass_maths_percentage,\n",
    "                            \"Passing Reading (%)\": pass_reading_percentage,\n",
    "                            \"Overall Passing (%)\" : pass_both_percentage}\n",
    "area_summary = pd.DataFrame(area_summary)\n",
    "\n",
    "area_summary[\"Total Students\"] = area_summary[\"Total Students\"].map(\"{:,}\".format)\n",
    "area_summary[\"Total Budget\"] = area_summary[\"Total Budget\"].map(\"${:,}\".format)\n",
    "area_summary[\"Average Maths Score\"] = area_summary[\"Average Maths Score\"].map(\"{:,.2f}%\".format)\n",
    "area_summary[\"Average Reading Score\"] = area_summary[\"Average Reading Score\"].map(\"{:,.2f}%\".format)\n",
    "area_summary[\"Passing Maths (%)\"] = area_summary[\"Passing Maths (%)\"].map(\"{:,.2f}%\".format)\n",
    "area_summary[\"Passing Reading (%)\"] = area_summary[\"Passing Reading (%)\"].map(\"{:,.2f}%\".format)\n",
    "area_summary[\"Overall Passing (%)\"] =area_summary[\"Overall Passing (%)\"].map(\"{:,.2f}%\".format)\n",
    "\n",
    "area_summary"
   ]
  },
  {
   "cell_type": "markdown",
   "metadata": {
    "tags": []
   },
   "source": [
    "## School Summary"
   ]
  },
  {
   "cell_type": "markdown",
   "metadata": {},
   "source": [
    "* Create an overview table that summarises key metrics about each school, including:\n",
    "  * School Name\n",
    "  * School Type\n",
    "  * Total Students\n",
    "  * Total School Budget\n",
    "  * Per Student Budget\n",
    "  * Average Maths Score\n",
    "  * Average Reading Score\n",
    "  * % Passing Maths\n",
    "  * % Passing Reading\n",
    "  * % Overall Passing (The percentage of students that passed maths **and** reading.)\n",
    "  \n",
    "* Create a dataframe to hold the above results"
   ]
  },
  {
   "cell_type": "code",
   "execution_count": 14,
   "metadata": {
    "tags": []
   },
   "outputs": [],
   "source": [
    "# Set school name as index and retrieve type values\n",
    "school_type = school_data.set_index([\"school_name\"])[\"type\"]"
   ]
  },
  {
   "cell_type": "code",
   "execution_count": 15,
   "metadata": {
    "tags": []
   },
   "outputs": [
    {
     "data": {
      "text/plain": [
       "school_name\n",
       "Bailey High School       4976\n",
       "Johnson High School      4761\n",
       "Hernandez High School    4635\n",
       "Rodriguez High School    3999\n",
       "Figueroa High School     2949\n",
       "Huang High School        2917\n",
       "Ford High School         2739\n",
       "Wilson High School       2283\n",
       "Cabrera High School      1858\n",
       "Wright High School       1800\n",
       "Shelton High School      1761\n",
       "Thomas High School       1635\n",
       "Griffin High School      1468\n",
       "Pena High School          962\n",
       "Holden High School        427\n",
       "Name: count, dtype: int64"
      ]
     },
     "execution_count": 15,
     "metadata": {},
     "output_type": "execute_result"
    }
   ],
   "source": [
    "# Set a variable for total_students \n",
    "total_students = school_data_complete['school_name'].value_counts()\n",
    "total_students"
   ]
  },
  {
   "cell_type": "code",
   "execution_count": 16,
   "metadata": {
    "tags": []
   },
   "outputs": [
    {
     "data": {
      "text/plain": [
       "school_name\n",
       "Bailey High School       3124928.0\n",
       "Cabrera High School      1081356.0\n",
       "Figueroa High School     1884411.0\n",
       "Ford High School         1763916.0\n",
       "Griffin High School       917500.0\n",
       "Hernandez High School    3022020.0\n",
       "Holden High School        248087.0\n",
       "Huang High School        1910635.0\n",
       "Johnson High School      3094650.0\n",
       "Pena High School          585858.0\n",
       "Rodriguez High School    2547363.0\n",
       "Shelton High School      1056600.0\n",
       "Thomas High School       1043130.0\n",
       "Wilson High School       1319574.0\n",
       "Wright High School       1049400.0\n",
       "Name: budget, dtype: float64"
      ]
     },
     "execution_count": 16,
     "metadata": {},
     "output_type": "execute_result"
    }
   ],
   "source": [
    "# Set a Variable for total school budget \n",
    "total_school_budget = school_data_complete.groupby([\"school_name\"])[\"budget\"].mean()\n",
    "total_school_budget"
   ]
  },
  {
   "cell_type": "code",
   "execution_count": 17,
   "metadata": {
    "tags": []
   },
   "outputs": [
    {
     "data": {
      "text/plain": [
       "school_name\n",
       "Bailey High School       628.0\n",
       "Cabrera High School      582.0\n",
       "Figueroa High School     639.0\n",
       "Ford High School         644.0\n",
       "Griffin High School      625.0\n",
       "Hernandez High School    652.0\n",
       "Holden High School       581.0\n",
       "Huang High School        655.0\n",
       "Johnson High School      650.0\n",
       "Pena High School         609.0\n",
       "Rodriguez High School    637.0\n",
       "Shelton High School      600.0\n",
       "Thomas High School       638.0\n",
       "Wilson High School       578.0\n",
       "Wright High School       583.0\n",
       "dtype: float64"
      ]
     },
     "execution_count": 17,
     "metadata": {},
     "output_type": "execute_result"
    }
   ],
   "source": [
    "# Set a variable to calculate budget per student\n",
    "per_student_budget = total_school_budget/total_students\n",
    "per_student_budget"
   ]
  },
  {
   "cell_type": "code",
   "execution_count": 18,
   "metadata": {
    "tags": []
   },
   "outputs": [
    {
     "data": {
      "text/plain": [
       "school_name\n",
       "Bailey High School       72.352894\n",
       "Cabrera High School      71.657158\n",
       "Figueroa High School     68.698542\n",
       "Ford High School         69.091274\n",
       "Griffin High School      71.788147\n",
       "Hernandez High School    68.874865\n",
       "Holden High School       72.583138\n",
       "Huang High School        68.935207\n",
       "Johnson High School      68.843100\n",
       "Pena High School         72.088358\n",
       "Rodriguez High School    72.047762\n",
       "Shelton High School      72.034072\n",
       "Thomas High School       69.581651\n",
       "Wilson High School       69.170828\n",
       "Wright High School       72.047222\n",
       "Name: maths_score, dtype: float64"
      ]
     },
     "execution_count": 18,
     "metadata": {},
     "output_type": "execute_result"
    }
   ],
   "source": [
    "# Set a variable to calculate the average maths score per school \n",
    "average_maths_score = school_data_complete.groupby([\"school_name\"])[\"maths_score\"].mean()\n",
    "average_maths_score"
   ]
  },
  {
   "cell_type": "code",
   "execution_count": 19,
   "metadata": {
    "tags": []
   },
   "outputs": [
    {
     "data": {
      "text/plain": [
       "school_name\n",
       "Bailey High School       71.008842\n",
       "Cabrera High School      71.359526\n",
       "Figueroa High School     69.077993\n",
       "Ford High School         69.572472\n",
       "Griffin High School      71.245232\n",
       "Hernandez High School    69.186408\n",
       "Holden High School       71.660422\n",
       "Huang High School        68.910525\n",
       "Johnson High School      69.039277\n",
       "Pena High School         71.613306\n",
       "Rodriguez High School    70.935984\n",
       "Shelton High School      70.257808\n",
       "Thomas High School       69.768807\n",
       "Wilson High School       68.876916\n",
       "Wright High School       70.969444\n",
       "Name: reading_score, dtype: float64"
      ]
     },
     "execution_count": 19,
     "metadata": {},
     "output_type": "execute_result"
    }
   ],
   "source": [
    "# Sert a variable to calculate the avaergae reading score per school \n",
    "average_reading_score = school_data_complete.groupby([\"school_name\"])[\"reading_score\"].mean()\n",
    "average_reading_score"
   ]
  },
  {
   "cell_type": "code",
   "execution_count": 20,
   "metadata": {
    "tags": []
   },
   "outputs": [
    {
     "data": {
      "text/html": [
       "<div>\n",
       "<style scoped>\n",
       "    .dataframe tbody tr th:only-of-type {\n",
       "        vertical-align: middle;\n",
       "    }\n",
       "\n",
       "    .dataframe tbody tr th {\n",
       "        vertical-align: top;\n",
       "    }\n",
       "\n",
       "    .dataframe thead th {\n",
       "        text-align: right;\n",
       "    }\n",
       "</style>\n",
       "<table border=\"1\" class=\"dataframe\">\n",
       "  <thead>\n",
       "    <tr style=\"text-align: right;\">\n",
       "      <th></th>\n",
       "      <th>Student ID</th>\n",
       "      <th>student_name</th>\n",
       "      <th>gender</th>\n",
       "      <th>year</th>\n",
       "      <th>school_name</th>\n",
       "      <th>reading_score</th>\n",
       "      <th>maths_score</th>\n",
       "      <th>School ID</th>\n",
       "      <th>type</th>\n",
       "      <th>size</th>\n",
       "      <th>budget</th>\n",
       "    </tr>\n",
       "  </thead>\n",
       "  <tbody>\n",
       "    <tr>\n",
       "      <th>0</th>\n",
       "      <td>0</td>\n",
       "      <td>Paul Bradley</td>\n",
       "      <td>M</td>\n",
       "      <td>9</td>\n",
       "      <td>Huang High School</td>\n",
       "      <td>96</td>\n",
       "      <td>94</td>\n",
       "      <td>0</td>\n",
       "      <td>Government</td>\n",
       "      <td>2917</td>\n",
       "      <td>1910635</td>\n",
       "    </tr>\n",
       "    <tr>\n",
       "      <th>2</th>\n",
       "      <td>2</td>\n",
       "      <td>Kevin Rodriguez</td>\n",
       "      <td>M</td>\n",
       "      <td>12</td>\n",
       "      <td>Huang High School</td>\n",
       "      <td>41</td>\n",
       "      <td>76</td>\n",
       "      <td>0</td>\n",
       "      <td>Government</td>\n",
       "      <td>2917</td>\n",
       "      <td>1910635</td>\n",
       "    </tr>\n",
       "    <tr>\n",
       "      <th>3</th>\n",
       "      <td>3</td>\n",
       "      <td>Richard Scott</td>\n",
       "      <td>M</td>\n",
       "      <td>12</td>\n",
       "      <td>Huang High School</td>\n",
       "      <td>89</td>\n",
       "      <td>86</td>\n",
       "      <td>0</td>\n",
       "      <td>Government</td>\n",
       "      <td>2917</td>\n",
       "      <td>1910635</td>\n",
       "    </tr>\n",
       "    <tr>\n",
       "      <th>4</th>\n",
       "      <td>4</td>\n",
       "      <td>Bonnie Ray</td>\n",
       "      <td>F</td>\n",
       "      <td>9</td>\n",
       "      <td>Huang High School</td>\n",
       "      <td>87</td>\n",
       "      <td>69</td>\n",
       "      <td>0</td>\n",
       "      <td>Government</td>\n",
       "      <td>2917</td>\n",
       "      <td>1910635</td>\n",
       "    </tr>\n",
       "    <tr>\n",
       "      <th>5</th>\n",
       "      <td>5</td>\n",
       "      <td>Bryan Miranda</td>\n",
       "      <td>M</td>\n",
       "      <td>9</td>\n",
       "      <td>Huang High School</td>\n",
       "      <td>88</td>\n",
       "      <td>93</td>\n",
       "      <td>0</td>\n",
       "      <td>Government</td>\n",
       "      <td>2917</td>\n",
       "      <td>1910635</td>\n",
       "    </tr>\n",
       "    <tr>\n",
       "      <th>...</th>\n",
       "      <td>...</td>\n",
       "      <td>...</td>\n",
       "      <td>...</td>\n",
       "      <td>...</td>\n",
       "      <td>...</td>\n",
       "      <td>...</td>\n",
       "      <td>...</td>\n",
       "      <td>...</td>\n",
       "      <td>...</td>\n",
       "      <td>...</td>\n",
       "      <td>...</td>\n",
       "    </tr>\n",
       "    <tr>\n",
       "      <th>39164</th>\n",
       "      <td>39164</td>\n",
       "      <td>Joseph Anthony</td>\n",
       "      <td>M</td>\n",
       "      <td>9</td>\n",
       "      <td>Thomas High School</td>\n",
       "      <td>97</td>\n",
       "      <td>79</td>\n",
       "      <td>14</td>\n",
       "      <td>Independent</td>\n",
       "      <td>1635</td>\n",
       "      <td>1043130</td>\n",
       "    </tr>\n",
       "    <tr>\n",
       "      <th>39166</th>\n",
       "      <td>39166</td>\n",
       "      <td>Dawn Bell</td>\n",
       "      <td>F</td>\n",
       "      <td>10</td>\n",
       "      <td>Thomas High School</td>\n",
       "      <td>81</td>\n",
       "      <td>89</td>\n",
       "      <td>14</td>\n",
       "      <td>Independent</td>\n",
       "      <td>1635</td>\n",
       "      <td>1043130</td>\n",
       "    </tr>\n",
       "    <tr>\n",
       "      <th>39167</th>\n",
       "      <td>39167</td>\n",
       "      <td>Rebecca Tanner</td>\n",
       "      <td>F</td>\n",
       "      <td>9</td>\n",
       "      <td>Thomas High School</td>\n",
       "      <td>99</td>\n",
       "      <td>99</td>\n",
       "      <td>14</td>\n",
       "      <td>Independent</td>\n",
       "      <td>1635</td>\n",
       "      <td>1043130</td>\n",
       "    </tr>\n",
       "    <tr>\n",
       "      <th>39168</th>\n",
       "      <td>39168</td>\n",
       "      <td>Desiree Kidd</td>\n",
       "      <td>F</td>\n",
       "      <td>10</td>\n",
       "      <td>Thomas High School</td>\n",
       "      <td>72</td>\n",
       "      <td>77</td>\n",
       "      <td>14</td>\n",
       "      <td>Independent</td>\n",
       "      <td>1635</td>\n",
       "      <td>1043130</td>\n",
       "    </tr>\n",
       "    <tr>\n",
       "      <th>39169</th>\n",
       "      <td>39169</td>\n",
       "      <td>Carolyn Jackson</td>\n",
       "      <td>F</td>\n",
       "      <td>11</td>\n",
       "      <td>Thomas High School</td>\n",
       "      <td>47</td>\n",
       "      <td>62</td>\n",
       "      <td>14</td>\n",
       "      <td>Independent</td>\n",
       "      <td>1635</td>\n",
       "      <td>1043130</td>\n",
       "    </tr>\n",
       "  </tbody>\n",
       "</table>\n",
       "<p>33717 rows × 11 columns</p>\n",
       "</div>"
      ],
      "text/plain": [
       "       Student ID     student_name gender  year         school_name  \\\n",
       "0               0     Paul Bradley      M     9   Huang High School   \n",
       "2               2  Kevin Rodriguez      M    12   Huang High School   \n",
       "3               3    Richard Scott      M    12   Huang High School   \n",
       "4               4       Bonnie Ray      F     9   Huang High School   \n",
       "5               5    Bryan Miranda      M     9   Huang High School   \n",
       "...           ...              ...    ...   ...                 ...   \n",
       "39164       39164   Joseph Anthony      M     9  Thomas High School   \n",
       "39166       39166        Dawn Bell      F    10  Thomas High School   \n",
       "39167       39167   Rebecca Tanner      F     9  Thomas High School   \n",
       "39168       39168     Desiree Kidd      F    10  Thomas High School   \n",
       "39169       39169  Carolyn Jackson      F    11  Thomas High School   \n",
       "\n",
       "       reading_score  maths_score  School ID         type  size   budget  \n",
       "0                 96           94          0   Government  2917  1910635  \n",
       "2                 41           76          0   Government  2917  1910635  \n",
       "3                 89           86          0   Government  2917  1910635  \n",
       "4                 87           69          0   Government  2917  1910635  \n",
       "5                 88           93          0   Government  2917  1910635  \n",
       "...              ...          ...        ...          ...   ...      ...  \n",
       "39164             97           79         14  Independent  1635  1043130  \n",
       "39166             81           89         14  Independent  1635  1043130  \n",
       "39167             99           99         14  Independent  1635  1043130  \n",
       "39168             72           77         14  Independent  1635  1043130  \n",
       "39169             47           62         14  Independent  1635  1043130  \n",
       "\n",
       "[33717 rows x 11 columns]"
      ]
     },
     "execution_count": 20,
     "metadata": {},
     "output_type": "execute_result"
    }
   ],
   "source": [
    "# Set a dataframe that shows all students that have passed maths  \n",
    "students_passing_maths = school_data_complete[school_data_complete[\"maths_score\"]>=50]\n",
    "students_passing_maths"
   ]
  },
  {
   "cell_type": "code",
   "execution_count": 21,
   "metadata": {
    "tags": []
   },
   "outputs": [
    {
     "data": {
      "text/plain": [
       "school_name\n",
       "Bailey High School       4560\n",
       "Cabrera High School      1688\n",
       "Figueroa High School     2408\n",
       "Ford High School         2258\n",
       "Griffin High School      1339\n",
       "Hernandez High School    3752\n",
       "Holden High School        384\n",
       "Huang High School        2383\n",
       "Johnson High School      3907\n",
       "Pena High School          882\n",
       "Rodriguez High School    3631\n",
       "Shelton High School      1612\n",
       "Thomas High School       1371\n",
       "Wilson High School       1890\n",
       "Wright High School       1652\n",
       "dtype: int64"
      ]
     },
     "execution_count": 21,
     "metadata": {},
     "output_type": "execute_result"
    }
   ],
   "source": [
    "# Set a variable to calculate the total amount of students who passed maths per school  \n",
    "total_students_passing_maths = students_passing_maths.groupby([\"school_name\"]).size()\n",
    "total_students_passing_maths"
   ]
  },
  {
   "cell_type": "code",
   "execution_count": 22,
   "metadata": {
    "tags": []
   },
   "outputs": [
    {
     "data": {
      "text/plain": [
       "school_name\n",
       "Bailey High School       91.639871\n",
       "Cabrera High School      90.850377\n",
       "Figueroa High School     81.654798\n",
       "Ford High School         82.438846\n",
       "Griffin High School      91.212534\n",
       "Hernandez High School    80.949299\n",
       "Holden High School       89.929742\n",
       "Huang High School        81.693521\n",
       "Johnson High School      82.062592\n",
       "Pena High School         91.683992\n",
       "Rodriguez High School    90.797699\n",
       "Shelton High School      91.538898\n",
       "Thomas High School       83.853211\n",
       "Wilson High School       82.785808\n",
       "Wright High School       91.777778\n",
       "dtype: float64"
      ]
     },
     "execution_count": 22,
     "metadata": {},
     "output_type": "execute_result"
    }
   ],
   "source": [
    "# Set a variable that calculates the percentage of students who passed maths \n",
    "percentage_students_passing_maths = (total_students_passing_maths/ total_students)*100\n",
    "percentage_students_passing_maths "
   ]
  },
  {
   "cell_type": "code",
   "execution_count": 23,
   "metadata": {
    "tags": []
   },
   "outputs": [
    {
     "data": {
      "text/html": [
       "<div>\n",
       "<style scoped>\n",
       "    .dataframe tbody tr th:only-of-type {\n",
       "        vertical-align: middle;\n",
       "    }\n",
       "\n",
       "    .dataframe tbody tr th {\n",
       "        vertical-align: top;\n",
       "    }\n",
       "\n",
       "    .dataframe thead th {\n",
       "        text-align: right;\n",
       "    }\n",
       "</style>\n",
       "<table border=\"1\" class=\"dataframe\">\n",
       "  <thead>\n",
       "    <tr style=\"text-align: right;\">\n",
       "      <th></th>\n",
       "      <th>Student ID</th>\n",
       "      <th>student_name</th>\n",
       "      <th>gender</th>\n",
       "      <th>year</th>\n",
       "      <th>school_name</th>\n",
       "      <th>reading_score</th>\n",
       "      <th>maths_score</th>\n",
       "      <th>School ID</th>\n",
       "      <th>type</th>\n",
       "      <th>size</th>\n",
       "      <th>budget</th>\n",
       "    </tr>\n",
       "  </thead>\n",
       "  <tbody>\n",
       "    <tr>\n",
       "      <th>0</th>\n",
       "      <td>0</td>\n",
       "      <td>Paul Bradley</td>\n",
       "      <td>M</td>\n",
       "      <td>9</td>\n",
       "      <td>Huang High School</td>\n",
       "      <td>96</td>\n",
       "      <td>94</td>\n",
       "      <td>0</td>\n",
       "      <td>Government</td>\n",
       "      <td>2917</td>\n",
       "      <td>1910635</td>\n",
       "    </tr>\n",
       "    <tr>\n",
       "      <th>1</th>\n",
       "      <td>1</td>\n",
       "      <td>Victor Smith</td>\n",
       "      <td>M</td>\n",
       "      <td>12</td>\n",
       "      <td>Huang High School</td>\n",
       "      <td>90</td>\n",
       "      <td>43</td>\n",
       "      <td>0</td>\n",
       "      <td>Government</td>\n",
       "      <td>2917</td>\n",
       "      <td>1910635</td>\n",
       "    </tr>\n",
       "    <tr>\n",
       "      <th>3</th>\n",
       "      <td>3</td>\n",
       "      <td>Richard Scott</td>\n",
       "      <td>M</td>\n",
       "      <td>12</td>\n",
       "      <td>Huang High School</td>\n",
       "      <td>89</td>\n",
       "      <td>86</td>\n",
       "      <td>0</td>\n",
       "      <td>Government</td>\n",
       "      <td>2917</td>\n",
       "      <td>1910635</td>\n",
       "    </tr>\n",
       "    <tr>\n",
       "      <th>4</th>\n",
       "      <td>4</td>\n",
       "      <td>Bonnie Ray</td>\n",
       "      <td>F</td>\n",
       "      <td>9</td>\n",
       "      <td>Huang High School</td>\n",
       "      <td>87</td>\n",
       "      <td>69</td>\n",
       "      <td>0</td>\n",
       "      <td>Government</td>\n",
       "      <td>2917</td>\n",
       "      <td>1910635</td>\n",
       "    </tr>\n",
       "    <tr>\n",
       "      <th>5</th>\n",
       "      <td>5</td>\n",
       "      <td>Bryan Miranda</td>\n",
       "      <td>M</td>\n",
       "      <td>9</td>\n",
       "      <td>Huang High School</td>\n",
       "      <td>88</td>\n",
       "      <td>93</td>\n",
       "      <td>0</td>\n",
       "      <td>Government</td>\n",
       "      <td>2917</td>\n",
       "      <td>1910635</td>\n",
       "    </tr>\n",
       "  </tbody>\n",
       "</table>\n",
       "</div>"
      ],
      "text/plain": [
       "   Student ID   student_name gender  year        school_name  reading_score  \\\n",
       "0           0   Paul Bradley      M     9  Huang High School             96   \n",
       "1           1   Victor Smith      M    12  Huang High School             90   \n",
       "3           3  Richard Scott      M    12  Huang High School             89   \n",
       "4           4     Bonnie Ray      F     9  Huang High School             87   \n",
       "5           5  Bryan Miranda      M     9  Huang High School             88   \n",
       "\n",
       "   maths_score  School ID        type  size   budget  \n",
       "0           94          0  Government  2917  1910635  \n",
       "1           43          0  Government  2917  1910635  \n",
       "3           86          0  Government  2917  1910635  \n",
       "4           69          0  Government  2917  1910635  \n",
       "5           93          0  Government  2917  1910635  "
      ]
     },
     "execution_count": 23,
     "metadata": {},
     "output_type": "execute_result"
    }
   ],
   "source": [
    "# Set a dataframe shows all students who passed reading \n",
    "students_passing_reading = school_data_complete[school_data_complete[\"reading_score\"]>=50]\n",
    "students_passing_reading.head()"
   ]
  },
  {
   "cell_type": "code",
   "execution_count": 24,
   "metadata": {
    "tags": []
   },
   "outputs": [
    {
     "data": {
      "text/plain": [
       "school_name\n",
       "Bailey High School       4348\n",
       "Cabrera High School      1655\n",
       "Figueroa High School     2442\n",
       "Ford High School         2252\n",
       "Griffin High School      1299\n",
       "Hernandez High School    3795\n",
       "Holden High School        378\n",
       "Huang High School        2376\n",
       "Johnson High School      3903\n",
       "Pena High School          833\n",
       "Rodriguez High School    3495\n",
       "Shelton High School      1527\n",
       "Thomas High School       1351\n",
       "Wilson High School       1856\n",
       "Wright High School       1560\n",
       "dtype: int64"
      ]
     },
     "execution_count": 24,
     "metadata": {},
     "output_type": "execute_result"
    }
   ],
   "source": [
    "# Set a variable that calculates the amount of students who passed reading per school \n",
    "total_students_passing_reading = students_passing_reading.groupby([\"school_name\"]).size()\n",
    "total_students_passing_reading"
   ]
  },
  {
   "cell_type": "code",
   "execution_count": 25,
   "metadata": {
    "tags": []
   },
   "outputs": [
    {
     "data": {
      "text/plain": [
       "school_name\n",
       "Bailey High School       87.379421\n",
       "Cabrera High School      89.074273\n",
       "Figueroa High School     82.807731\n",
       "Ford High School         82.219788\n",
       "Griffin High School      88.487738\n",
       "Hernandez High School    81.877023\n",
       "Holden High School       88.524590\n",
       "Huang High School        81.453548\n",
       "Johnson High School      81.978576\n",
       "Pena High School         86.590437\n",
       "Rodriguez High School    87.396849\n",
       "Shelton High School      86.712095\n",
       "Thomas High School       82.629969\n",
       "Wilson High School       81.296540\n",
       "Wright High School       86.666667\n",
       "dtype: float64"
      ]
     },
     "execution_count": 25,
     "metadata": {},
     "output_type": "execute_result"
    }
   ],
   "source": [
    "# Set a variable that calculates the percentage of students who passed reading per school \n",
    "percentage_students_passing_reading = (total_students_passing_reading/ total_students)*100\n",
    "percentage_students_passing_reading"
   ]
  },
  {
   "cell_type": "code",
   "execution_count": 26,
   "metadata": {
    "tags": []
   },
   "outputs": [
    {
     "data": {
      "text/html": [
       "<div>\n",
       "<style scoped>\n",
       "    .dataframe tbody tr th:only-of-type {\n",
       "        vertical-align: middle;\n",
       "    }\n",
       "\n",
       "    .dataframe tbody tr th {\n",
       "        vertical-align: top;\n",
       "    }\n",
       "\n",
       "    .dataframe thead th {\n",
       "        text-align: right;\n",
       "    }\n",
       "</style>\n",
       "<table border=\"1\" class=\"dataframe\">\n",
       "  <thead>\n",
       "    <tr style=\"text-align: right;\">\n",
       "      <th></th>\n",
       "      <th>Student ID</th>\n",
       "      <th>student_name</th>\n",
       "      <th>gender</th>\n",
       "      <th>year</th>\n",
       "      <th>school_name</th>\n",
       "      <th>reading_score</th>\n",
       "      <th>maths_score</th>\n",
       "      <th>School ID</th>\n",
       "      <th>type</th>\n",
       "      <th>size</th>\n",
       "      <th>budget</th>\n",
       "    </tr>\n",
       "  </thead>\n",
       "  <tbody>\n",
       "    <tr>\n",
       "      <th>0</th>\n",
       "      <td>0</td>\n",
       "      <td>Paul Bradley</td>\n",
       "      <td>M</td>\n",
       "      <td>9</td>\n",
       "      <td>Huang High School</td>\n",
       "      <td>96</td>\n",
       "      <td>94</td>\n",
       "      <td>0</td>\n",
       "      <td>Government</td>\n",
       "      <td>2917</td>\n",
       "      <td>1910635</td>\n",
       "    </tr>\n",
       "    <tr>\n",
       "      <th>3</th>\n",
       "      <td>3</td>\n",
       "      <td>Richard Scott</td>\n",
       "      <td>M</td>\n",
       "      <td>12</td>\n",
       "      <td>Huang High School</td>\n",
       "      <td>89</td>\n",
       "      <td>86</td>\n",
       "      <td>0</td>\n",
       "      <td>Government</td>\n",
       "      <td>2917</td>\n",
       "      <td>1910635</td>\n",
       "    </tr>\n",
       "    <tr>\n",
       "      <th>4</th>\n",
       "      <td>4</td>\n",
       "      <td>Bonnie Ray</td>\n",
       "      <td>F</td>\n",
       "      <td>9</td>\n",
       "      <td>Huang High School</td>\n",
       "      <td>87</td>\n",
       "      <td>69</td>\n",
       "      <td>0</td>\n",
       "      <td>Government</td>\n",
       "      <td>2917</td>\n",
       "      <td>1910635</td>\n",
       "    </tr>\n",
       "    <tr>\n",
       "      <th>5</th>\n",
       "      <td>5</td>\n",
       "      <td>Bryan Miranda</td>\n",
       "      <td>M</td>\n",
       "      <td>9</td>\n",
       "      <td>Huang High School</td>\n",
       "      <td>88</td>\n",
       "      <td>93</td>\n",
       "      <td>0</td>\n",
       "      <td>Government</td>\n",
       "      <td>2917</td>\n",
       "      <td>1910635</td>\n",
       "    </tr>\n",
       "    <tr>\n",
       "      <th>6</th>\n",
       "      <td>6</td>\n",
       "      <td>Sheena Carter</td>\n",
       "      <td>F</td>\n",
       "      <td>11</td>\n",
       "      <td>Huang High School</td>\n",
       "      <td>73</td>\n",
       "      <td>60</td>\n",
       "      <td>0</td>\n",
       "      <td>Government</td>\n",
       "      <td>2917</td>\n",
       "      <td>1910635</td>\n",
       "    </tr>\n",
       "  </tbody>\n",
       "</table>\n",
       "</div>"
      ],
      "text/plain": [
       "   Student ID   student_name gender  year        school_name  reading_score  \\\n",
       "0           0   Paul Bradley      M     9  Huang High School             96   \n",
       "3           3  Richard Scott      M    12  Huang High School             89   \n",
       "4           4     Bonnie Ray      F     9  Huang High School             87   \n",
       "5           5  Bryan Miranda      M     9  Huang High School             88   \n",
       "6           6  Sheena Carter      F    11  Huang High School             73   \n",
       "\n",
       "   maths_score  School ID        type  size   budget  \n",
       "0           94          0  Government  2917  1910635  \n",
       "3           86          0  Government  2917  1910635  \n",
       "4           69          0  Government  2917  1910635  \n",
       "5           93          0  Government  2917  1910635  \n",
       "6           60          0  Government  2917  1910635  "
      ]
     },
     "execution_count": 26,
     "metadata": {},
     "output_type": "execute_result"
    }
   ],
   "source": [
    "# Set a dataframe that combines all students who passed maths and reading. \n",
    "passing_both_df = school_data_complete[(school_data_complete[\"maths_score\"] >= 50) & (school_data_complete[\"reading_score\"] >= 50)]\n",
    "passing_both_df.head()"
   ]
  },
  {
   "cell_type": "code",
   "execution_count": 27,
   "metadata": {
    "tags": []
   },
   "outputs": [
    {
     "data": {
      "text/plain": [
       "school_name\n",
       "Bailey High School       3985\n",
       "Cabrera High School      1501\n",
       "Figueroa High School     1995\n",
       "Ford High School         1848\n",
       "Griffin High School      1194\n",
       "Hernandez High School    3076\n",
       "Holden High School        337\n",
       "Huang High School        1946\n",
       "Johnson High School      3199\n",
       "Pena High School          762\n",
       "Rodriguez High School    3176\n",
       "Shelton High School      1389\n",
       "Thomas High School       1136\n",
       "Wilson High School       1540\n",
       "Wright High School       1435\n",
       "dtype: int64"
      ]
     },
     "execution_count": 27,
     "metadata": {},
     "output_type": "execute_result"
    }
   ],
   "source": [
    "# Set a variable that groups the students who passed both maths and reading per school \n",
    "passing_both = passing_both_df.groupby([\"school_name\"]).size()\n",
    "passing_both"
   ]
  },
  {
   "cell_type": "code",
   "execution_count": 28,
   "metadata": {
    "tags": []
   },
   "outputs": [
    {
     "data": {
      "text/plain": [
       "school_name\n",
       "Bailey High School       80.084405\n",
       "Cabrera High School      80.785791\n",
       "Figueroa High School     67.650051\n",
       "Ford High School         67.469880\n",
       "Griffin High School      81.335150\n",
       "Hernandez High School    66.364617\n",
       "Holden High School       78.922717\n",
       "Huang High School        66.712376\n",
       "Johnson High School      67.191766\n",
       "Pena High School         79.209979\n",
       "Rodriguez High School    79.419855\n",
       "Shelton High School      78.875639\n",
       "Thomas High School       69.480122\n",
       "Wilson High School       67.455103\n",
       "Wright High School       79.722222\n",
       "dtype: float64"
      ]
     },
     "execution_count": 28,
     "metadata": {},
     "output_type": "execute_result"
    }
   ],
   "source": [
    "# Set a variable that calculates the percentage of students who passed both maths and reading per school \n",
    "percentage_overall_pass = (passing_both/total_students)*100\n",
    "percentage_overall_pass"
   ]
  },
  {
   "cell_type": "code",
   "execution_count": 29,
   "metadata": {
    "tags": []
   },
   "outputs": [
    {
     "data": {
      "text/html": [
       "<div>\n",
       "<style scoped>\n",
       "    .dataframe tbody tr th:only-of-type {\n",
       "        vertical-align: middle;\n",
       "    }\n",
       "\n",
       "    .dataframe tbody tr th {\n",
       "        vertical-align: top;\n",
       "    }\n",
       "\n",
       "    .dataframe thead th {\n",
       "        text-align: right;\n",
       "    }\n",
       "</style>\n",
       "<table border=\"1\" class=\"dataframe\">\n",
       "  <thead>\n",
       "    <tr style=\"text-align: right;\">\n",
       "      <th></th>\n",
       "      <th>School Type</th>\n",
       "      <th>Total Students</th>\n",
       "      <th>Total School Budget</th>\n",
       "      <th>Per Student Budget</th>\n",
       "      <th>Average Maths Score</th>\n",
       "      <th>Average Reading Score</th>\n",
       "      <th>% Passing Maths</th>\n",
       "      <th>% Passing Reading</th>\n",
       "      <th>% Overall Passing</th>\n",
       "    </tr>\n",
       "    <tr>\n",
       "      <th></th>\n",
       "      <th></th>\n",
       "      <th></th>\n",
       "      <th></th>\n",
       "      <th></th>\n",
       "      <th></th>\n",
       "      <th></th>\n",
       "      <th></th>\n",
       "      <th></th>\n",
       "      <th></th>\n",
       "    </tr>\n",
       "  </thead>\n",
       "  <tbody>\n",
       "    <tr>\n",
       "      <th>Bailey High School</th>\n",
       "      <td>Government</td>\n",
       "      <td>4976</td>\n",
       "      <td>$3,124,928.00</td>\n",
       "      <td>$628.00</td>\n",
       "      <td>72.352894</td>\n",
       "      <td>71.008842</td>\n",
       "      <td>91.639871</td>\n",
       "      <td>87.379421</td>\n",
       "      <td>80.084405</td>\n",
       "    </tr>\n",
       "    <tr>\n",
       "      <th>Cabrera High School</th>\n",
       "      <td>Independent</td>\n",
       "      <td>1858</td>\n",
       "      <td>$1,081,356.00</td>\n",
       "      <td>$582.00</td>\n",
       "      <td>71.657158</td>\n",
       "      <td>71.359526</td>\n",
       "      <td>90.850377</td>\n",
       "      <td>89.074273</td>\n",
       "      <td>80.785791</td>\n",
       "    </tr>\n",
       "    <tr>\n",
       "      <th>Figueroa High School</th>\n",
       "      <td>Government</td>\n",
       "      <td>2949</td>\n",
       "      <td>$1,884,411.00</td>\n",
       "      <td>$639.00</td>\n",
       "      <td>68.698542</td>\n",
       "      <td>69.077993</td>\n",
       "      <td>81.654798</td>\n",
       "      <td>82.807731</td>\n",
       "      <td>67.650051</td>\n",
       "    </tr>\n",
       "    <tr>\n",
       "      <th>Ford High School</th>\n",
       "      <td>Government</td>\n",
       "      <td>2739</td>\n",
       "      <td>$1,763,916.00</td>\n",
       "      <td>$644.00</td>\n",
       "      <td>69.091274</td>\n",
       "      <td>69.572472</td>\n",
       "      <td>82.438846</td>\n",
       "      <td>82.219788</td>\n",
       "      <td>67.469880</td>\n",
       "    </tr>\n",
       "    <tr>\n",
       "      <th>Griffin High School</th>\n",
       "      <td>Independent</td>\n",
       "      <td>1468</td>\n",
       "      <td>$917,500.00</td>\n",
       "      <td>$625.00</td>\n",
       "      <td>71.788147</td>\n",
       "      <td>71.245232</td>\n",
       "      <td>91.212534</td>\n",
       "      <td>88.487738</td>\n",
       "      <td>81.335150</td>\n",
       "    </tr>\n",
       "    <tr>\n",
       "      <th>Hernandez High School</th>\n",
       "      <td>Government</td>\n",
       "      <td>4635</td>\n",
       "      <td>$3,022,020.00</td>\n",
       "      <td>$652.00</td>\n",
       "      <td>68.874865</td>\n",
       "      <td>69.186408</td>\n",
       "      <td>80.949299</td>\n",
       "      <td>81.877023</td>\n",
       "      <td>66.364617</td>\n",
       "    </tr>\n",
       "    <tr>\n",
       "      <th>Holden High School</th>\n",
       "      <td>Independent</td>\n",
       "      <td>427</td>\n",
       "      <td>$248,087.00</td>\n",
       "      <td>$581.00</td>\n",
       "      <td>72.583138</td>\n",
       "      <td>71.660422</td>\n",
       "      <td>89.929742</td>\n",
       "      <td>88.524590</td>\n",
       "      <td>78.922717</td>\n",
       "    </tr>\n",
       "    <tr>\n",
       "      <th>Huang High School</th>\n",
       "      <td>Government</td>\n",
       "      <td>2917</td>\n",
       "      <td>$1,910,635.00</td>\n",
       "      <td>$655.00</td>\n",
       "      <td>68.935207</td>\n",
       "      <td>68.910525</td>\n",
       "      <td>81.693521</td>\n",
       "      <td>81.453548</td>\n",
       "      <td>66.712376</td>\n",
       "    </tr>\n",
       "    <tr>\n",
       "      <th>Johnson High School</th>\n",
       "      <td>Government</td>\n",
       "      <td>4761</td>\n",
       "      <td>$3,094,650.00</td>\n",
       "      <td>$650.00</td>\n",
       "      <td>68.843100</td>\n",
       "      <td>69.039277</td>\n",
       "      <td>82.062592</td>\n",
       "      <td>81.978576</td>\n",
       "      <td>67.191766</td>\n",
       "    </tr>\n",
       "    <tr>\n",
       "      <th>Pena High School</th>\n",
       "      <td>Independent</td>\n",
       "      <td>962</td>\n",
       "      <td>$585,858.00</td>\n",
       "      <td>$609.00</td>\n",
       "      <td>72.088358</td>\n",
       "      <td>71.613306</td>\n",
       "      <td>91.683992</td>\n",
       "      <td>86.590437</td>\n",
       "      <td>79.209979</td>\n",
       "    </tr>\n",
       "    <tr>\n",
       "      <th>Rodriguez High School</th>\n",
       "      <td>Government</td>\n",
       "      <td>3999</td>\n",
       "      <td>$2,547,363.00</td>\n",
       "      <td>$637.00</td>\n",
       "      <td>72.047762</td>\n",
       "      <td>70.935984</td>\n",
       "      <td>90.797699</td>\n",
       "      <td>87.396849</td>\n",
       "      <td>79.419855</td>\n",
       "    </tr>\n",
       "    <tr>\n",
       "      <th>Shelton High School</th>\n",
       "      <td>Independent</td>\n",
       "      <td>1761</td>\n",
       "      <td>$1,056,600.00</td>\n",
       "      <td>$600.00</td>\n",
       "      <td>72.034072</td>\n",
       "      <td>70.257808</td>\n",
       "      <td>91.538898</td>\n",
       "      <td>86.712095</td>\n",
       "      <td>78.875639</td>\n",
       "    </tr>\n",
       "    <tr>\n",
       "      <th>Thomas High School</th>\n",
       "      <td>Independent</td>\n",
       "      <td>1635</td>\n",
       "      <td>$1,043,130.00</td>\n",
       "      <td>$638.00</td>\n",
       "      <td>69.581651</td>\n",
       "      <td>69.768807</td>\n",
       "      <td>83.853211</td>\n",
       "      <td>82.629969</td>\n",
       "      <td>69.480122</td>\n",
       "    </tr>\n",
       "    <tr>\n",
       "      <th>Wilson High School</th>\n",
       "      <td>Independent</td>\n",
       "      <td>2283</td>\n",
       "      <td>$1,319,574.00</td>\n",
       "      <td>$578.00</td>\n",
       "      <td>69.170828</td>\n",
       "      <td>68.876916</td>\n",
       "      <td>82.785808</td>\n",
       "      <td>81.296540</td>\n",
       "      <td>67.455103</td>\n",
       "    </tr>\n",
       "    <tr>\n",
       "      <th>Wright High School</th>\n",
       "      <td>Independent</td>\n",
       "      <td>1800</td>\n",
       "      <td>$1,049,400.00</td>\n",
       "      <td>$583.00</td>\n",
       "      <td>72.047222</td>\n",
       "      <td>70.969444</td>\n",
       "      <td>91.777778</td>\n",
       "      <td>86.666667</td>\n",
       "      <td>79.722222</td>\n",
       "    </tr>\n",
       "  </tbody>\n",
       "</table>\n",
       "</div>"
      ],
      "text/plain": [
       "                       School Type  Total Students Total School Budget  \\\n",
       "                                                                         \n",
       "Bailey High School      Government            4976       $3,124,928.00   \n",
       "Cabrera High School    Independent            1858       $1,081,356.00   \n",
       "Figueroa High School    Government            2949       $1,884,411.00   \n",
       "Ford High School        Government            2739       $1,763,916.00   \n",
       "Griffin High School    Independent            1468         $917,500.00   \n",
       "Hernandez High School   Government            4635       $3,022,020.00   \n",
       "Holden High School     Independent             427         $248,087.00   \n",
       "Huang High School       Government            2917       $1,910,635.00   \n",
       "Johnson High School     Government            4761       $3,094,650.00   \n",
       "Pena High School       Independent             962         $585,858.00   \n",
       "Rodriguez High School   Government            3999       $2,547,363.00   \n",
       "Shelton High School    Independent            1761       $1,056,600.00   \n",
       "Thomas High School     Independent            1635       $1,043,130.00   \n",
       "Wilson High School     Independent            2283       $1,319,574.00   \n",
       "Wright High School     Independent            1800       $1,049,400.00   \n",
       "\n",
       "                      Per Student Budget  Average Maths Score  \\\n",
       "                                                                \n",
       "Bailey High School               $628.00            72.352894   \n",
       "Cabrera High School              $582.00            71.657158   \n",
       "Figueroa High School             $639.00            68.698542   \n",
       "Ford High School                 $644.00            69.091274   \n",
       "Griffin High School              $625.00            71.788147   \n",
       "Hernandez High School            $652.00            68.874865   \n",
       "Holden High School               $581.00            72.583138   \n",
       "Huang High School                $655.00            68.935207   \n",
       "Johnson High School              $650.00            68.843100   \n",
       "Pena High School                 $609.00            72.088358   \n",
       "Rodriguez High School            $637.00            72.047762   \n",
       "Shelton High School              $600.00            72.034072   \n",
       "Thomas High School               $638.00            69.581651   \n",
       "Wilson High School               $578.00            69.170828   \n",
       "Wright High School               $583.00            72.047222   \n",
       "\n",
       "                       Average Reading Score  % Passing Maths  \\\n",
       "                                                                \n",
       "Bailey High School                 71.008842        91.639871   \n",
       "Cabrera High School                71.359526        90.850377   \n",
       "Figueroa High School               69.077993        81.654798   \n",
       "Ford High School                   69.572472        82.438846   \n",
       "Griffin High School                71.245232        91.212534   \n",
       "Hernandez High School              69.186408        80.949299   \n",
       "Holden High School                 71.660422        89.929742   \n",
       "Huang High School                  68.910525        81.693521   \n",
       "Johnson High School                69.039277        82.062592   \n",
       "Pena High School                   71.613306        91.683992   \n",
       "Rodriguez High School              70.935984        90.797699   \n",
       "Shelton High School                70.257808        91.538898   \n",
       "Thomas High School                 69.768807        83.853211   \n",
       "Wilson High School                 68.876916        82.785808   \n",
       "Wright High School                 70.969444        91.777778   \n",
       "\n",
       "                       % Passing Reading  % Overall Passing  \n",
       "                                                             \n",
       "Bailey High School             87.379421          80.084405  \n",
       "Cabrera High School            89.074273          80.785791  \n",
       "Figueroa High School           82.807731          67.650051  \n",
       "Ford High School               82.219788          67.469880  \n",
       "Griffin High School            88.487738          81.335150  \n",
       "Hernandez High School          81.877023          66.364617  \n",
       "Holden High School             88.524590          78.922717  \n",
       "Huang High School              81.453548          66.712376  \n",
       "Johnson High School            81.978576          67.191766  \n",
       "Pena High School               86.590437          79.209979  \n",
       "Rodriguez High School          87.396849          79.419855  \n",
       "Shelton High School            86.712095          78.875639  \n",
       "Thomas High School             82.629969          69.480122  \n",
       "Wilson High School             81.296540          67.455103  \n",
       "Wright High School             86.666667          79.722222  "
      ]
     },
     "execution_count": 29,
     "metadata": {},
     "output_type": "execute_result"
    }
   ],
   "source": [
    "# Create a data frame calkled per_school_summary that summarise all information per school \n",
    "per_school_summary = pd.DataFrame({\n",
    "    \"School Type\": school_type,\n",
    "    \"Total Students\": total_students,\n",
    "    \"Total School Budget\": total_school_budget,\n",
    "    \"Per Student Budget\": per_student_budget,\n",
    "    \"Average Maths Score\":average_maths_score,\n",
    "    \"Average Reading Score\": average_reading_score,\n",
    "    \"% Passing Maths\": percentage_students_passing_maths,\n",
    "    \"% Passing Reading\": percentage_students_passing_reading,\n",
    "    \"% Overall Passing\": percentage_overall_pass\n",
    "})\n",
    "\n",
    "#Formatting Data in Total School Budget and Total School Budget\n",
    "per_school_summary.index.names=['']\n",
    "per_school_summary[\"Total School Budget\"] = per_school_summary[\"Total School Budget\"].map(\"${:,.2f}\".format)\n",
    "per_school_summary[\"Per Student Budget\"] = per_school_summary[\"Per Student Budget\"].map(\"${:.2f}\".format)\n",
    "\n",
    "per_school_summary"
   ]
  },
  {
   "cell_type": "code",
   "execution_count": null,
   "metadata": {
    "tags": []
   },
   "outputs": [],
   "source": []
  },
  {
   "cell_type": "markdown",
   "metadata": {
    "tags": []
   },
   "source": [
    "## Top Performing Schools (By % Overall Passing)"
   ]
  },
  {
   "cell_type": "markdown",
   "metadata": {},
   "source": [
    "* Sort and display the top five performing schools by % overall passing."
   ]
  },
  {
   "cell_type": "code",
   "execution_count": 30,
   "metadata": {
    "tags": []
   },
   "outputs": [
    {
     "data": {
      "text/html": [
       "<div>\n",
       "<style scoped>\n",
       "    .dataframe tbody tr th:only-of-type {\n",
       "        vertical-align: middle;\n",
       "    }\n",
       "\n",
       "    .dataframe tbody tr th {\n",
       "        vertical-align: top;\n",
       "    }\n",
       "\n",
       "    .dataframe thead th {\n",
       "        text-align: right;\n",
       "    }\n",
       "</style>\n",
       "<table border=\"1\" class=\"dataframe\">\n",
       "  <thead>\n",
       "    <tr style=\"text-align: right;\">\n",
       "      <th></th>\n",
       "      <th>School Type</th>\n",
       "      <th>Total Students</th>\n",
       "      <th>Total School Budget</th>\n",
       "      <th>Per Student Budget</th>\n",
       "      <th>Average Maths Score</th>\n",
       "      <th>Average Reading Score</th>\n",
       "      <th>% Passing Maths</th>\n",
       "      <th>% Passing Reading</th>\n",
       "      <th>% Overall Passing</th>\n",
       "    </tr>\n",
       "    <tr>\n",
       "      <th></th>\n",
       "      <th></th>\n",
       "      <th></th>\n",
       "      <th></th>\n",
       "      <th></th>\n",
       "      <th></th>\n",
       "      <th></th>\n",
       "      <th></th>\n",
       "      <th></th>\n",
       "      <th></th>\n",
       "    </tr>\n",
       "  </thead>\n",
       "  <tbody>\n",
       "    <tr>\n",
       "      <th>Griffin High School</th>\n",
       "      <td>Independent</td>\n",
       "      <td>1468</td>\n",
       "      <td>$917,500.00</td>\n",
       "      <td>$625.00</td>\n",
       "      <td>71.788147</td>\n",
       "      <td>71.245232</td>\n",
       "      <td>91.212534</td>\n",
       "      <td>88.487738</td>\n",
       "      <td>81.335150</td>\n",
       "    </tr>\n",
       "    <tr>\n",
       "      <th>Cabrera High School</th>\n",
       "      <td>Independent</td>\n",
       "      <td>1858</td>\n",
       "      <td>$1,081,356.00</td>\n",
       "      <td>$582.00</td>\n",
       "      <td>71.657158</td>\n",
       "      <td>71.359526</td>\n",
       "      <td>90.850377</td>\n",
       "      <td>89.074273</td>\n",
       "      <td>80.785791</td>\n",
       "    </tr>\n",
       "    <tr>\n",
       "      <th>Bailey High School</th>\n",
       "      <td>Government</td>\n",
       "      <td>4976</td>\n",
       "      <td>$3,124,928.00</td>\n",
       "      <td>$628.00</td>\n",
       "      <td>72.352894</td>\n",
       "      <td>71.008842</td>\n",
       "      <td>91.639871</td>\n",
       "      <td>87.379421</td>\n",
       "      <td>80.084405</td>\n",
       "    </tr>\n",
       "    <tr>\n",
       "      <th>Wright High School</th>\n",
       "      <td>Independent</td>\n",
       "      <td>1800</td>\n",
       "      <td>$1,049,400.00</td>\n",
       "      <td>$583.00</td>\n",
       "      <td>72.047222</td>\n",
       "      <td>70.969444</td>\n",
       "      <td>91.777778</td>\n",
       "      <td>86.666667</td>\n",
       "      <td>79.722222</td>\n",
       "    </tr>\n",
       "    <tr>\n",
       "      <th>Rodriguez High School</th>\n",
       "      <td>Government</td>\n",
       "      <td>3999</td>\n",
       "      <td>$2,547,363.00</td>\n",
       "      <td>$637.00</td>\n",
       "      <td>72.047762</td>\n",
       "      <td>70.935984</td>\n",
       "      <td>90.797699</td>\n",
       "      <td>87.396849</td>\n",
       "      <td>79.419855</td>\n",
       "    </tr>\n",
       "  </tbody>\n",
       "</table>\n",
       "</div>"
      ],
      "text/plain": [
       "                       School Type  Total Students Total School Budget  \\\n",
       "                                                                         \n",
       "Griffin High School    Independent            1468         $917,500.00   \n",
       "Cabrera High School    Independent            1858       $1,081,356.00   \n",
       "Bailey High School      Government            4976       $3,124,928.00   \n",
       "Wright High School     Independent            1800       $1,049,400.00   \n",
       "Rodriguez High School   Government            3999       $2,547,363.00   \n",
       "\n",
       "                      Per Student Budget  Average Maths Score  \\\n",
       "                                                                \n",
       "Griffin High School              $625.00            71.788147   \n",
       "Cabrera High School              $582.00            71.657158   \n",
       "Bailey High School               $628.00            72.352894   \n",
       "Wright High School               $583.00            72.047222   \n",
       "Rodriguez High School            $637.00            72.047762   \n",
       "\n",
       "                       Average Reading Score  % Passing Maths  \\\n",
       "                                                                \n",
       "Griffin High School                71.245232        91.212534   \n",
       "Cabrera High School                71.359526        90.850377   \n",
       "Bailey High School                 71.008842        91.639871   \n",
       "Wright High School                 70.969444        91.777778   \n",
       "Rodriguez High School              70.935984        90.797699   \n",
       "\n",
       "                       % Passing Reading  % Overall Passing  \n",
       "                                                             \n",
       "Griffin High School            88.487738          81.335150  \n",
       "Cabrera High School            89.074273          80.785791  \n",
       "Bailey High School             87.379421          80.084405  \n",
       "Wright High School             86.666667          79.722222  \n",
       "Rodriguez High School          87.396849          79.419855  "
      ]
     },
     "execution_count": 30,
     "metadata": {},
     "output_type": "execute_result"
    }
   ],
   "source": [
    "# Create a dataframe that displays the top five performing schools by overall passing percentage \n",
    "top_schools = per_school_summary.sort_values(\"% Overall Passing\", ascending=False)\n",
    "top_schools.head()\n"
   ]
  },
  {
   "cell_type": "markdown",
   "metadata": {
    "tags": []
   },
   "source": [
    "## Bottom Performing Schools (By % Overall Passing)"
   ]
  },
  {
   "cell_type": "markdown",
   "metadata": {},
   "source": [
    "* Sort and display the five worst-performing schools by % overall passing."
   ]
  },
  {
   "cell_type": "code",
   "execution_count": 31,
   "metadata": {
    "tags": []
   },
   "outputs": [
    {
     "data": {
      "text/html": [
       "<div>\n",
       "<style scoped>\n",
       "    .dataframe tbody tr th:only-of-type {\n",
       "        vertical-align: middle;\n",
       "    }\n",
       "\n",
       "    .dataframe tbody tr th {\n",
       "        vertical-align: top;\n",
       "    }\n",
       "\n",
       "    .dataframe thead th {\n",
       "        text-align: right;\n",
       "    }\n",
       "</style>\n",
       "<table border=\"1\" class=\"dataframe\">\n",
       "  <thead>\n",
       "    <tr style=\"text-align: right;\">\n",
       "      <th></th>\n",
       "      <th>School Type</th>\n",
       "      <th>Total Students</th>\n",
       "      <th>Total School Budget</th>\n",
       "      <th>Per Student Budget</th>\n",
       "      <th>Average Maths Score</th>\n",
       "      <th>Average Reading Score</th>\n",
       "      <th>% Passing Maths</th>\n",
       "      <th>% Passing Reading</th>\n",
       "      <th>% Overall Passing</th>\n",
       "    </tr>\n",
       "    <tr>\n",
       "      <th></th>\n",
       "      <th></th>\n",
       "      <th></th>\n",
       "      <th></th>\n",
       "      <th></th>\n",
       "      <th></th>\n",
       "      <th></th>\n",
       "      <th></th>\n",
       "      <th></th>\n",
       "      <th></th>\n",
       "    </tr>\n",
       "  </thead>\n",
       "  <tbody>\n",
       "    <tr>\n",
       "      <th>Hernandez High School</th>\n",
       "      <td>Government</td>\n",
       "      <td>4635</td>\n",
       "      <td>$3,022,020.00</td>\n",
       "      <td>$652.00</td>\n",
       "      <td>68.874865</td>\n",
       "      <td>69.186408</td>\n",
       "      <td>80.949299</td>\n",
       "      <td>81.877023</td>\n",
       "      <td>66.364617</td>\n",
       "    </tr>\n",
       "    <tr>\n",
       "      <th>Huang High School</th>\n",
       "      <td>Government</td>\n",
       "      <td>2917</td>\n",
       "      <td>$1,910,635.00</td>\n",
       "      <td>$655.00</td>\n",
       "      <td>68.935207</td>\n",
       "      <td>68.910525</td>\n",
       "      <td>81.693521</td>\n",
       "      <td>81.453548</td>\n",
       "      <td>66.712376</td>\n",
       "    </tr>\n",
       "    <tr>\n",
       "      <th>Johnson High School</th>\n",
       "      <td>Government</td>\n",
       "      <td>4761</td>\n",
       "      <td>$3,094,650.00</td>\n",
       "      <td>$650.00</td>\n",
       "      <td>68.843100</td>\n",
       "      <td>69.039277</td>\n",
       "      <td>82.062592</td>\n",
       "      <td>81.978576</td>\n",
       "      <td>67.191766</td>\n",
       "    </tr>\n",
       "    <tr>\n",
       "      <th>Wilson High School</th>\n",
       "      <td>Independent</td>\n",
       "      <td>2283</td>\n",
       "      <td>$1,319,574.00</td>\n",
       "      <td>$578.00</td>\n",
       "      <td>69.170828</td>\n",
       "      <td>68.876916</td>\n",
       "      <td>82.785808</td>\n",
       "      <td>81.296540</td>\n",
       "      <td>67.455103</td>\n",
       "    </tr>\n",
       "    <tr>\n",
       "      <th>Ford High School</th>\n",
       "      <td>Government</td>\n",
       "      <td>2739</td>\n",
       "      <td>$1,763,916.00</td>\n",
       "      <td>$644.00</td>\n",
       "      <td>69.091274</td>\n",
       "      <td>69.572472</td>\n",
       "      <td>82.438846</td>\n",
       "      <td>82.219788</td>\n",
       "      <td>67.469880</td>\n",
       "    </tr>\n",
       "  </tbody>\n",
       "</table>\n",
       "</div>"
      ],
      "text/plain": [
       "                       School Type  Total Students Total School Budget  \\\n",
       "                                                                         \n",
       "Hernandez High School   Government            4635       $3,022,020.00   \n",
       "Huang High School       Government            2917       $1,910,635.00   \n",
       "Johnson High School     Government            4761       $3,094,650.00   \n",
       "Wilson High School     Independent            2283       $1,319,574.00   \n",
       "Ford High School        Government            2739       $1,763,916.00   \n",
       "\n",
       "                      Per Student Budget  Average Maths Score  \\\n",
       "                                                                \n",
       "Hernandez High School            $652.00            68.874865   \n",
       "Huang High School                $655.00            68.935207   \n",
       "Johnson High School              $650.00            68.843100   \n",
       "Wilson High School               $578.00            69.170828   \n",
       "Ford High School                 $644.00            69.091274   \n",
       "\n",
       "                       Average Reading Score  % Passing Maths  \\\n",
       "                                                                \n",
       "Hernandez High School              69.186408        80.949299   \n",
       "Huang High School                  68.910525        81.693521   \n",
       "Johnson High School                69.039277        82.062592   \n",
       "Wilson High School                 68.876916        82.785808   \n",
       "Ford High School                   69.572472        82.438846   \n",
       "\n",
       "                       % Passing Reading  % Overall Passing  \n",
       "                                                             \n",
       "Hernandez High School          81.877023          66.364617  \n",
       "Huang High School              81.453548          66.712376  \n",
       "Johnson High School            81.978576          67.191766  \n",
       "Wilson High School             81.296540          67.455103  \n",
       "Ford High School               82.219788          67.469880  "
      ]
     },
     "execution_count": 31,
     "metadata": {},
     "output_type": "execute_result"
    }
   ],
   "source": [
    "# Create a dataframe that displays the bottom five performing schools by overall passing percentage \n",
    "bottom_schools = per_school_summary.sort_values(\"% Overall Passing\")\n",
    "bottom_schools.head()"
   ]
  },
  {
   "cell_type": "markdown",
   "metadata": {
    "tags": []
   },
   "source": [
    "## Maths Scores by Year"
   ]
  },
  {
   "cell_type": "markdown",
   "metadata": {},
   "source": [
    "* Create a table that lists the average maths score for students of each year level (9, 10, 11, 12) at each school.\n",
    "\n",
    "  * Create a pandas series for each year. Hint: use a conditional statement.\n",
    "  \n",
    "  * Group each series by school\n",
    "  \n",
    "  * Combine the series into a dataframe\n",
    "  \n",
    "  * Optional: give the displayed data cleaner formatting"
   ]
  },
  {
   "cell_type": "code",
   "execution_count": 32,
   "metadata": {
    "tags": []
   },
   "outputs": [],
   "source": [
    "#Create and assign variable for each year level \n",
    "year_nine = school_data_complete[(school_data_complete[\"year\"] == 9)]\n",
    "year_ten = school_data_complete[(school_data_complete[\"year\"] == 10)]\n",
    "year_eleven = school_data_complete[(school_data_complete[\"year\"] == 11)]\n",
    "year_twelve = school_data_complete[(school_data_complete[\"year\"] == 12)]"
   ]
  },
  {
   "cell_type": "code",
   "execution_count": 33,
   "metadata": {
    "tags": []
   },
   "outputs": [],
   "source": [
    "#Calculate and assign variables for each year level's average maths score \n",
    "year_nine_average_maths = year_nine.groupby([\"school_name\"])[\"maths_score\"].mean() \n",
    "year_ten_average_maths = year_ten.groupby([\"school_name\"])[\"maths_score\"].mean() \n",
    "year_eleven_average_maths = year_eleven.groupby([\"school_name\"])[\"maths_score\"].mean() \n",
    "year_twelve_average_maths = year_twelve.groupby([\"school_name\"])[\"maths_score\"].mean() "
   ]
  },
  {
   "cell_type": "code",
   "execution_count": 34,
   "metadata": {
    "tags": []
   },
   "outputs": [
    {
     "data": {
      "text/html": [
       "<div>\n",
       "<style scoped>\n",
       "    .dataframe tbody tr th:only-of-type {\n",
       "        vertical-align: middle;\n",
       "    }\n",
       "\n",
       "    .dataframe tbody tr th {\n",
       "        vertical-align: top;\n",
       "    }\n",
       "\n",
       "    .dataframe thead th {\n",
       "        text-align: right;\n",
       "    }\n",
       "</style>\n",
       "<table border=\"1\" class=\"dataframe\">\n",
       "  <thead>\n",
       "    <tr style=\"text-align: right;\">\n",
       "      <th></th>\n",
       "      <th>Year 9</th>\n",
       "      <th>Year 10</th>\n",
       "      <th>Year 11</th>\n",
       "      <th>Year 12</th>\n",
       "    </tr>\n",
       "    <tr>\n",
       "      <th></th>\n",
       "      <th></th>\n",
       "      <th></th>\n",
       "      <th></th>\n",
       "      <th></th>\n",
       "    </tr>\n",
       "  </thead>\n",
       "  <tbody>\n",
       "    <tr>\n",
       "      <th>Bailey High School</th>\n",
       "      <td>72.49%</td>\n",
       "      <td>71.90%</td>\n",
       "      <td>72.37%</td>\n",
       "      <td>72.68%</td>\n",
       "    </tr>\n",
       "    <tr>\n",
       "      <th>Cabrera High School</th>\n",
       "      <td>72.32%</td>\n",
       "      <td>72.44%</td>\n",
       "      <td>71.01%</td>\n",
       "      <td>70.60%</td>\n",
       "    </tr>\n",
       "    <tr>\n",
       "      <th>Figueroa High School</th>\n",
       "      <td>68.48%</td>\n",
       "      <td>68.33%</td>\n",
       "      <td>68.81%</td>\n",
       "      <td>69.33%</td>\n",
       "    </tr>\n",
       "    <tr>\n",
       "      <th>Ford High School</th>\n",
       "      <td>69.02%</td>\n",
       "      <td>69.39%</td>\n",
       "      <td>69.25%</td>\n",
       "      <td>68.62%</td>\n",
       "    </tr>\n",
       "    <tr>\n",
       "      <th>Griffin High School</th>\n",
       "      <td>72.79%</td>\n",
       "      <td>71.09%</td>\n",
       "      <td>71.69%</td>\n",
       "      <td>71.47%</td>\n",
       "    </tr>\n",
       "    <tr>\n",
       "      <th>Hernandez High School</th>\n",
       "      <td>68.59%</td>\n",
       "      <td>68.87%</td>\n",
       "      <td>69.15%</td>\n",
       "      <td>68.99%</td>\n",
       "    </tr>\n",
       "    <tr>\n",
       "      <th>Holden High School</th>\n",
       "      <td>70.54%</td>\n",
       "      <td>75.11%</td>\n",
       "      <td>71.64%</td>\n",
       "      <td>73.41%</td>\n",
       "    </tr>\n",
       "    <tr>\n",
       "      <th>Huang High School</th>\n",
       "      <td>69.08%</td>\n",
       "      <td>68.53%</td>\n",
       "      <td>69.43%</td>\n",
       "      <td>68.64%</td>\n",
       "    </tr>\n",
       "    <tr>\n",
       "      <th>Johnson High School</th>\n",
       "      <td>69.47%</td>\n",
       "      <td>67.99%</td>\n",
       "      <td>68.64%</td>\n",
       "      <td>69.29%</td>\n",
       "    </tr>\n",
       "    <tr>\n",
       "      <th>Pena High School</th>\n",
       "      <td>72.00%</td>\n",
       "      <td>72.40%</td>\n",
       "      <td>72.52%</td>\n",
       "      <td>71.19%</td>\n",
       "    </tr>\n",
       "    <tr>\n",
       "      <th>Rodriguez High School</th>\n",
       "      <td>71.94%</td>\n",
       "      <td>71.78%</td>\n",
       "      <td>72.36%</td>\n",
       "      <td>72.15%</td>\n",
       "    </tr>\n",
       "    <tr>\n",
       "      <th>Shelton High School</th>\n",
       "      <td>72.93%</td>\n",
       "      <td>72.51%</td>\n",
       "      <td>70.10%</td>\n",
       "      <td>72.33%</td>\n",
       "    </tr>\n",
       "    <tr>\n",
       "      <th>Thomas High School</th>\n",
       "      <td>69.23%</td>\n",
       "      <td>70.06%</td>\n",
       "      <td>69.66%</td>\n",
       "      <td>69.37%</td>\n",
       "    </tr>\n",
       "    <tr>\n",
       "      <th>Wilson High School</th>\n",
       "      <td>69.21%</td>\n",
       "      <td>69.46%</td>\n",
       "      <td>68.38%</td>\n",
       "      <td>69.79%</td>\n",
       "    </tr>\n",
       "    <tr>\n",
       "      <th>Wright High School</th>\n",
       "      <td>71.74%</td>\n",
       "      <td>72.18%</td>\n",
       "      <td>73.28%</td>\n",
       "      <td>70.85%</td>\n",
       "    </tr>\n",
       "  </tbody>\n",
       "</table>\n",
       "</div>"
      ],
      "text/plain": [
       "                       Year 9 Year 10 Year 11 Year 12\n",
       "                                                     \n",
       "Bailey High School     72.49%  71.90%  72.37%  72.68%\n",
       "Cabrera High School    72.32%  72.44%  71.01%  70.60%\n",
       "Figueroa High School   68.48%  68.33%  68.81%  69.33%\n",
       "Ford High School       69.02%  69.39%  69.25%  68.62%\n",
       "Griffin High School    72.79%  71.09%  71.69%  71.47%\n",
       "Hernandez High School  68.59%  68.87%  69.15%  68.99%\n",
       "Holden High School     70.54%  75.11%  71.64%  73.41%\n",
       "Huang High School      69.08%  68.53%  69.43%  68.64%\n",
       "Johnson High School    69.47%  67.99%  68.64%  69.29%\n",
       "Pena High School       72.00%  72.40%  72.52%  71.19%\n",
       "Rodriguez High School  71.94%  71.78%  72.36%  72.15%\n",
       "Shelton High School    72.93%  72.51%  70.10%  72.33%\n",
       "Thomas High School     69.23%  70.06%  69.66%  69.37%\n",
       "Wilson High School     69.21%  69.46%  68.38%  69.79%\n",
       "Wright High School     71.74%  72.18%  73.28%  70.85%"
      ]
     },
     "execution_count": 34,
     "metadata": {},
     "output_type": "execute_result"
    }
   ],
   "source": [
    "#Combine the series into a data frame \n",
    "maths_score_by_year = pd.DataFrame({\n",
    "    \"Year 9\" : year_nine_average_maths,\n",
    "    \"Year 10\" : year_ten_average_maths,\n",
    "    \"Year 11\" : year_eleven_average_maths,\n",
    "    \"Year 12\" : year_twelve_average_maths,\n",
    "})\n",
    "\n",
    "#Format the data frame \n",
    "maths_score_by_year.index.names=['']\n",
    "maths_score_by_year[\"Year 9\"] = maths_score_by_year[\"Year 9\"].map(\"{:.2f}%\".format)\n",
    "maths_score_by_year[\"Year 10\"] = maths_score_by_year[\"Year 10\"].map(\"{:.2f}%\".format)\n",
    "maths_score_by_year[\"Year 11\"] = maths_score_by_year[\"Year 11\"].map(\"{:.2f}%\".format)\n",
    "maths_score_by_year[\"Year 12\"] = maths_score_by_year[\"Year 12\"].map(\"{:.2f}%\".format)\n",
    "maths_score_by_year\n"
   ]
  },
  {
   "cell_type": "markdown",
   "metadata": {
    "tags": []
   },
   "source": [
    "## Reading Score by Year"
   ]
  },
  {
   "cell_type": "markdown",
   "metadata": {},
   "source": [
    "* Perform the same operations as above for reading scores"
   ]
  },
  {
   "cell_type": "code",
   "execution_count": 35,
   "metadata": {
    "tags": []
   },
   "outputs": [],
   "source": [
    "#Calculate and assign variables for each year level's average reading score \n",
    "year_nine_average_reading = year_nine.groupby([\"school_name\"])[\"reading_score\"].mean() \n",
    "year_ten_average_reading = year_ten.groupby([\"school_name\"])[\"reading_score\"].mean() \n",
    "year_eleven_average_reading = year_eleven.groupby([\"school_name\"])[\"reading_score\"].mean() \n",
    "year_twelve_average_reading = year_twelve.groupby([\"school_name\"])[\"reading_score\"].mean() "
   ]
  },
  {
   "cell_type": "code",
   "execution_count": 37,
   "metadata": {
    "tags": []
   },
   "outputs": [
    {
     "data": {
      "text/html": [
       "<div>\n",
       "<style scoped>\n",
       "    .dataframe tbody tr th:only-of-type {\n",
       "        vertical-align: middle;\n",
       "    }\n",
       "\n",
       "    .dataframe tbody tr th {\n",
       "        vertical-align: top;\n",
       "    }\n",
       "\n",
       "    .dataframe thead th {\n",
       "        text-align: right;\n",
       "    }\n",
       "</style>\n",
       "<table border=\"1\" class=\"dataframe\">\n",
       "  <thead>\n",
       "    <tr style=\"text-align: right;\">\n",
       "      <th></th>\n",
       "      <th>Year 9</th>\n",
       "      <th>Year 10</th>\n",
       "      <th>Year 11</th>\n",
       "      <th>Year 12</th>\n",
       "    </tr>\n",
       "    <tr>\n",
       "      <th></th>\n",
       "      <th></th>\n",
       "      <th></th>\n",
       "      <th></th>\n",
       "      <th></th>\n",
       "    </tr>\n",
       "  </thead>\n",
       "  <tbody>\n",
       "    <tr>\n",
       "      <th>Bailey High School</th>\n",
       "      <td>70.90%</td>\n",
       "      <td>70.85%</td>\n",
       "      <td>70.32%</td>\n",
       "      <td>72.20%</td>\n",
       "    </tr>\n",
       "    <tr>\n",
       "      <th>Cabrera High School</th>\n",
       "      <td>71.17%</td>\n",
       "      <td>71.33%</td>\n",
       "      <td>71.20%</td>\n",
       "      <td>71.86%</td>\n",
       "    </tr>\n",
       "    <tr>\n",
       "      <th>Figueroa High School</th>\n",
       "      <td>70.26%</td>\n",
       "      <td>67.68%</td>\n",
       "      <td>69.15%</td>\n",
       "      <td>69.08%</td>\n",
       "    </tr>\n",
       "    <tr>\n",
       "      <th>Ford High School</th>\n",
       "      <td>69.62%</td>\n",
       "      <td>68.99%</td>\n",
       "      <td>70.74%</td>\n",
       "      <td>68.85%</td>\n",
       "    </tr>\n",
       "    <tr>\n",
       "      <th>Griffin High School</th>\n",
       "      <td>72.03%</td>\n",
       "      <td>70.75%</td>\n",
       "      <td>72.39%</td>\n",
       "      <td>69.43%</td>\n",
       "    </tr>\n",
       "    <tr>\n",
       "      <th>Hernandez High School</th>\n",
       "      <td>68.48%</td>\n",
       "      <td>70.62%</td>\n",
       "      <td>68.42%</td>\n",
       "      <td>69.24%</td>\n",
       "    </tr>\n",
       "    <tr>\n",
       "      <th>Holden High School</th>\n",
       "      <td>71.60%</td>\n",
       "      <td>71.10%</td>\n",
       "      <td>73.31%</td>\n",
       "      <td>70.48%</td>\n",
       "    </tr>\n",
       "    <tr>\n",
       "      <th>Huang High School</th>\n",
       "      <td>68.67%</td>\n",
       "      <td>69.52%</td>\n",
       "      <td>68.74%</td>\n",
       "      <td>68.67%</td>\n",
       "    </tr>\n",
       "    <tr>\n",
       "      <th>Johnson High School</th>\n",
       "      <td>68.72%</td>\n",
       "      <td>69.30%</td>\n",
       "      <td>69.97%</td>\n",
       "      <td>67.99%</td>\n",
       "    </tr>\n",
       "    <tr>\n",
       "      <th>Pena High School</th>\n",
       "      <td>70.95%</td>\n",
       "      <td>72.32%</td>\n",
       "      <td>71.70%</td>\n",
       "      <td>71.51%</td>\n",
       "    </tr>\n",
       "    <tr>\n",
       "      <th>Rodriguez High School</th>\n",
       "      <td>70.90%</td>\n",
       "      <td>70.14%</td>\n",
       "      <td>71.42%</td>\n",
       "      <td>71.41%</td>\n",
       "    </tr>\n",
       "    <tr>\n",
       "      <th>Shelton High School</th>\n",
       "      <td>70.72%</td>\n",
       "      <td>69.88%</td>\n",
       "      <td>71.15%</td>\n",
       "      <td>69.07%</td>\n",
       "    </tr>\n",
       "    <tr>\n",
       "      <th>Thomas High School</th>\n",
       "      <td>69.67%</td>\n",
       "      <td>69.74%</td>\n",
       "      <td>70.75%</td>\n",
       "      <td>68.73%</td>\n",
       "    </tr>\n",
       "    <tr>\n",
       "      <th>Wilson High School</th>\n",
       "      <td>68.68%</td>\n",
       "      <td>68.41%</td>\n",
       "      <td>68.80%</td>\n",
       "      <td>69.89%</td>\n",
       "    </tr>\n",
       "    <tr>\n",
       "      <th>Wright High School</th>\n",
       "      <td>71.82%</td>\n",
       "      <td>71.39%</td>\n",
       "      <td>70.48%</td>\n",
       "      <td>69.82%</td>\n",
       "    </tr>\n",
       "  </tbody>\n",
       "</table>\n",
       "</div>"
      ],
      "text/plain": [
       "                       Year 9 Year 10 Year 11 Year 12\n",
       "                                                     \n",
       "Bailey High School     70.90%  70.85%  70.32%  72.20%\n",
       "Cabrera High School    71.17%  71.33%  71.20%  71.86%\n",
       "Figueroa High School   70.26%  67.68%  69.15%  69.08%\n",
       "Ford High School       69.62%  68.99%  70.74%  68.85%\n",
       "Griffin High School    72.03%  70.75%  72.39%  69.43%\n",
       "Hernandez High School  68.48%  70.62%  68.42%  69.24%\n",
       "Holden High School     71.60%  71.10%  73.31%  70.48%\n",
       "Huang High School      68.67%  69.52%  68.74%  68.67%\n",
       "Johnson High School    68.72%  69.30%  69.97%  67.99%\n",
       "Pena High School       70.95%  72.32%  71.70%  71.51%\n",
       "Rodriguez High School  70.90%  70.14%  71.42%  71.41%\n",
       "Shelton High School    70.72%  69.88%  71.15%  69.07%\n",
       "Thomas High School     69.67%  69.74%  70.75%  68.73%\n",
       "Wilson High School     68.68%  68.41%  68.80%  69.89%\n",
       "Wright High School     71.82%  71.39%  70.48%  69.82%"
      ]
     },
     "execution_count": 37,
     "metadata": {},
     "output_type": "execute_result"
    }
   ],
   "source": [
    "#Combine the series into a data frame \n",
    "reading_scores_by_year = pd.DataFrame({\n",
    "    \"Year 9\" : year_nine_average_reading,\n",
    "    \"Year 10\" : year_ten_average_reading,\n",
    "    \"Year 11\" : year_eleven_average_reading,\n",
    "    \"Year 12\" : year_twelve_average_reading,\n",
    "})\n",
    "\n",
    "#Format the data frame \n",
    "reading_scores_by_year.index.names=['']\n",
    "reading_scores_by_year[\"Year 9\"] = reading_scores_by_year[\"Year 9\"].map(\"{:.2f}%\".format)\n",
    "reading_scores_by_year[\"Year 10\"] = reading_scores_by_year[\"Year 10\"].map(\"{:.2f}%\".format)\n",
    "reading_scores_by_year[\"Year 11\"] = reading_scores_by_year[\"Year 11\"].map(\"{:.2f}%\".format)\n",
    "reading_scores_by_year[\"Year 12\"] = reading_scores_by_year[\"Year 12\"].map(\"{:.2f}%\".format)\n",
    "\n",
    "reading_scores_by_year\n"
   ]
  },
  {
   "cell_type": "markdown",
   "metadata": {},
   "source": [
    "## Scores by School Spending"
   ]
  },
  {
   "cell_type": "markdown",
   "metadata": {},
   "source": [
    "* Create a table that breaks down school performances based on average Spending Ranges (Per Student). Use 4 reasonable bins to group school spending. Include in the table each of the following:\n",
    "  * Average Maths Score\n",
    "  * Average Reading Score\n",
    "  * % Passing Maths\n",
    "  * % Passing Reading\n",
    "  * Overall Passing Rate (Average of the above two)"
   ]
  },
  {
   "cell_type": "code",
   "execution_count": 38,
   "metadata": {
    "tags": []
   },
   "outputs": [],
   "source": [
    "# Establish bins for spending per student \n",
    "spending_bins = [0, 585, 630, 645, 680]\n",
    "labels = [\"<$585\", \"$585-630\", \"$630-645\", \"$645-680\"]"
   ]
  },
  {
   "cell_type": "code",
   "execution_count": 39,
   "metadata": {
    "tags": []
   },
   "outputs": [
    {
     "name": "stderr",
     "output_type": "stream",
     "text": [
      "C:\\Users\\jesss\\AppData\\Local\\Temp\\ipykernel_15064\\943253834.py:3: SettingWithCopyWarning: \n",
      "A value is trying to be set on a copy of a slice from a DataFrame.\n",
      "Try using .loc[row_indexer,col_indexer] = value instead\n",
      "\n",
      "See the caveats in the documentation: https://pandas.pydata.org/pandas-docs/stable/user_guide/indexing.html#returning-a-view-versus-a-copy\n",
      "  school_spending_df[\"Spending Ranges (Per Student)\"] = pd.cut(per_student_budget,spending_bins, labels = labels, include_lowest=True)\n"
     ]
    },
    {
     "data": {
      "text/html": [
       "<div>\n",
       "<style scoped>\n",
       "    .dataframe tbody tr th:only-of-type {\n",
       "        vertical-align: middle;\n",
       "    }\n",
       "\n",
       "    .dataframe tbody tr th {\n",
       "        vertical-align: top;\n",
       "    }\n",
       "\n",
       "    .dataframe thead th {\n",
       "        text-align: right;\n",
       "    }\n",
       "</style>\n",
       "<table border=\"1\" class=\"dataframe\">\n",
       "  <thead>\n",
       "    <tr style=\"text-align: right;\">\n",
       "      <th></th>\n",
       "      <th>Per Student Budget</th>\n",
       "      <th>Average Maths Score</th>\n",
       "      <th>Average Reading Score</th>\n",
       "      <th>% Passing Maths</th>\n",
       "      <th>% Passing Reading</th>\n",
       "      <th>% Overall Passing</th>\n",
       "      <th>Spending Ranges (Per Student)</th>\n",
       "    </tr>\n",
       "    <tr>\n",
       "      <th></th>\n",
       "      <th></th>\n",
       "      <th></th>\n",
       "      <th></th>\n",
       "      <th></th>\n",
       "      <th></th>\n",
       "      <th></th>\n",
       "      <th></th>\n",
       "    </tr>\n",
       "  </thead>\n",
       "  <tbody>\n",
       "    <tr>\n",
       "      <th>Bailey High School</th>\n",
       "      <td>$628.00</td>\n",
       "      <td>72.352894</td>\n",
       "      <td>71.008842</td>\n",
       "      <td>91.639871</td>\n",
       "      <td>87.379421</td>\n",
       "      <td>80.084405</td>\n",
       "      <td>$585-630</td>\n",
       "    </tr>\n",
       "    <tr>\n",
       "      <th>Cabrera High School</th>\n",
       "      <td>$582.00</td>\n",
       "      <td>71.657158</td>\n",
       "      <td>71.359526</td>\n",
       "      <td>90.850377</td>\n",
       "      <td>89.074273</td>\n",
       "      <td>80.785791</td>\n",
       "      <td>&lt;$585</td>\n",
       "    </tr>\n",
       "    <tr>\n",
       "      <th>Figueroa High School</th>\n",
       "      <td>$639.00</td>\n",
       "      <td>68.698542</td>\n",
       "      <td>69.077993</td>\n",
       "      <td>81.654798</td>\n",
       "      <td>82.807731</td>\n",
       "      <td>67.650051</td>\n",
       "      <td>$630-645</td>\n",
       "    </tr>\n",
       "    <tr>\n",
       "      <th>Ford High School</th>\n",
       "      <td>$644.00</td>\n",
       "      <td>69.091274</td>\n",
       "      <td>69.572472</td>\n",
       "      <td>82.438846</td>\n",
       "      <td>82.219788</td>\n",
       "      <td>67.469880</td>\n",
       "      <td>$630-645</td>\n",
       "    </tr>\n",
       "    <tr>\n",
       "      <th>Griffin High School</th>\n",
       "      <td>$625.00</td>\n",
       "      <td>71.788147</td>\n",
       "      <td>71.245232</td>\n",
       "      <td>91.212534</td>\n",
       "      <td>88.487738</td>\n",
       "      <td>81.335150</td>\n",
       "      <td>$585-630</td>\n",
       "    </tr>\n",
       "  </tbody>\n",
       "</table>\n",
       "</div>"
      ],
      "text/plain": [
       "                     Per Student Budget  Average Maths Score  \\\n",
       "                                                               \n",
       "Bailey High School              $628.00            72.352894   \n",
       "Cabrera High School             $582.00            71.657158   \n",
       "Figueroa High School            $639.00            68.698542   \n",
       "Ford High School                $644.00            69.091274   \n",
       "Griffin High School             $625.00            71.788147   \n",
       "\n",
       "                      Average Reading Score  % Passing Maths  \\\n",
       "                                                               \n",
       "Bailey High School                71.008842        91.639871   \n",
       "Cabrera High School               71.359526        90.850377   \n",
       "Figueroa High School              69.077993        81.654798   \n",
       "Ford High School                  69.572472        82.438846   \n",
       "Griffin High School               71.245232        91.212534   \n",
       "\n",
       "                      % Passing Reading  % Overall Passing  \\\n",
       "                                                             \n",
       "Bailey High School            87.379421          80.084405   \n",
       "Cabrera High School           89.074273          80.785791   \n",
       "Figueroa High School          82.807731          67.650051   \n",
       "Ford High School              82.219788          67.469880   \n",
       "Griffin High School           88.487738          81.335150   \n",
       "\n",
       "                     Spending Ranges (Per Student)  \n",
       "                                                    \n",
       "Bailey High School                        $585-630  \n",
       "Cabrera High School                          <$585  \n",
       "Figueroa High School                      $630-645  \n",
       "Ford High School                          $630-645  \n",
       "Griffin High School                       $585-630  "
      ]
     },
     "execution_count": 39,
     "metadata": {},
     "output_type": "execute_result"
    }
   ],
   "source": [
    "# Set a dataframe that summarises the school spending and categorises each school by bins provided \n",
    "school_spending_df = per_school_summary[[\"Per Student Budget\", \"Average Maths Score\",\"Average Reading Score\",\"% Passing Maths\",\"% Passing Reading\", \"% Overall Passing\"]]\n",
    "school_spending_df[\"Spending Ranges (Per Student)\"] = pd.cut(per_student_budget,spending_bins, labels = labels, include_lowest=True)\n",
    "school_spending_df.head()"
   ]
  },
  {
   "cell_type": "code",
   "execution_count": 40,
   "metadata": {
    "tags": []
   },
   "outputs": [],
   "source": [
    "# Set variables for each average % in maths per school \n",
    "spending_math_scores = school_spending_df.groupby([\"Spending Ranges (Per Student)\"])[\"Average Maths Score\"].mean()\n",
    "spending_reading_scores = school_spending_df.groupby([\"Spending Ranges (Per Student)\"])[\"Average Reading Score\"].mean()\n",
    "spending_passing_math = school_spending_df.groupby([\"Spending Ranges (Per Student)\"])[\"% Passing Maths\"].mean()\n",
    "spending_passing_reading = school_spending_df.groupby([\"Spending Ranges (Per Student)\"])[\"% Passing Reading\"].mean()\n",
    "overall_passing_spending = school_spending_df.groupby([\"Spending Ranges (Per Student)\"])[\"% Overall Passing\"].mean()"
   ]
  },
  {
   "cell_type": "code",
   "execution_count": 41,
   "metadata": {
    "tags": []
   },
   "outputs": [
    {
     "data": {
      "text/html": [
       "<div>\n",
       "<style scoped>\n",
       "    .dataframe tbody tr th:only-of-type {\n",
       "        vertical-align: middle;\n",
       "    }\n",
       "\n",
       "    .dataframe tbody tr th {\n",
       "        vertical-align: top;\n",
       "    }\n",
       "\n",
       "    .dataframe thead th {\n",
       "        text-align: right;\n",
       "    }\n",
       "</style>\n",
       "<table border=\"1\" class=\"dataframe\">\n",
       "  <thead>\n",
       "    <tr style=\"text-align: right;\">\n",
       "      <th></th>\n",
       "      <th>Average Maths Score</th>\n",
       "      <th>Average Reading Score</th>\n",
       "      <th>% Passing Maths</th>\n",
       "      <th>% Passing Reading</th>\n",
       "      <th>% Overall Passing</th>\n",
       "    </tr>\n",
       "    <tr>\n",
       "      <th>Spending Ranges (Per Student)</th>\n",
       "      <th></th>\n",
       "      <th></th>\n",
       "      <th></th>\n",
       "      <th></th>\n",
       "      <th></th>\n",
       "    </tr>\n",
       "  </thead>\n",
       "  <tbody>\n",
       "    <tr>\n",
       "      <th>&lt;$585</th>\n",
       "      <td>71.36</td>\n",
       "      <td>70.72</td>\n",
       "      <td>88.84</td>\n",
       "      <td>86.39</td>\n",
       "      <td>76.72</td>\n",
       "    </tr>\n",
       "    <tr>\n",
       "      <th>$585-630</th>\n",
       "      <td>72.07</td>\n",
       "      <td>71.03</td>\n",
       "      <td>91.52</td>\n",
       "      <td>87.29</td>\n",
       "      <td>79.88</td>\n",
       "    </tr>\n",
       "    <tr>\n",
       "      <th>$630-645</th>\n",
       "      <td>69.85</td>\n",
       "      <td>69.84</td>\n",
       "      <td>84.69</td>\n",
       "      <td>83.76</td>\n",
       "      <td>71.00</td>\n",
       "    </tr>\n",
       "    <tr>\n",
       "      <th>$645-680</th>\n",
       "      <td>68.88</td>\n",
       "      <td>69.05</td>\n",
       "      <td>81.57</td>\n",
       "      <td>81.77</td>\n",
       "      <td>66.76</td>\n",
       "    </tr>\n",
       "  </tbody>\n",
       "</table>\n",
       "</div>"
      ],
      "text/plain": [
       "                              Average Maths Score Average Reading Score  \\\n",
       "Spending Ranges (Per Student)                                             \n",
       "<$585                                       71.36                 70.72   \n",
       "$585-630                                    72.07                 71.03   \n",
       "$630-645                                    69.85                 69.84   \n",
       "$645-680                                    68.88                 69.05   \n",
       "\n",
       "                              % Passing Maths % Passing Reading  \\\n",
       "Spending Ranges (Per Student)                                     \n",
       "<$585                                   88.84             86.39   \n",
       "$585-630                                91.52             87.29   \n",
       "$630-645                                84.69             83.76   \n",
       "$645-680                                81.57             81.77   \n",
       "\n",
       "                              % Overall Passing  \n",
       "Spending Ranges (Per Student)                    \n",
       "<$585                                     76.72  \n",
       "$585-630                                  79.88  \n",
       "$630-645                                  71.00  \n",
       "$645-680                                  66.76  "
      ]
     },
     "execution_count": 41,
     "metadata": {},
     "output_type": "execute_result"
    }
   ],
   "source": [
    "# Create at data frame called spending_summary that summarises the average spending range per student \n",
    "spending_summary = pd.DataFrame({\n",
    "    \"Average Maths Score\" : spending_math_scores,\n",
    "    \"Average Reading Score\" : spending_reading_scores,\n",
    "    \"% Passing Maths\" :spending_passing_math,\n",
    "    \"% Passing Reading\" : spending_passing_reading,\n",
    "    \"% Overall Passing\" : overall_passing_spending\n",
    "})\n",
    "\n",
    "#Format the data frame \n",
    "spending_summary[\"Average Maths Score\"] = spending_summary[\"Average Maths Score\"].map(\"{:.2f}\".format) \n",
    "spending_summary[\"Average Reading Score\"] = spending_summary[\"Average Reading Score\"].map(\"{:.2f}\".format) \n",
    "spending_summary[\"% Passing Maths\"] = spending_summary[\"% Passing Maths\"].map(\"{:.2f}\".format) \n",
    "spending_summary[\"% Passing Reading\"] = spending_summary[\"% Passing Reading\"].map(\"{:.2f}\".format) \n",
    "spending_summary[\"% Overall Passing\"] = spending_summary[\"% Overall Passing\"].map(\"{:.2f}\".format) \n",
    "spending_summary = spending_summary.groupby(\"Spending Ranges (Per Student)\")\n",
    "spending_summary.max()"
   ]
  },
  {
   "cell_type": "markdown",
   "metadata": {},
   "source": [
    "## Scores by School Size"
   ]
  },
  {
   "cell_type": "code",
   "execution_count": 42,
   "metadata": {
    "tags": []
   },
   "outputs": [],
   "source": [
    "#Establish Bins for School Size \n",
    "size_bins = [0, 1000, 2000, 5000]\n",
    "size_labels = [\"Small (<1000)\", \"Medium (1000-2000)\", \"Large (2000-5000)\"]"
   ]
  },
  {
   "cell_type": "code",
   "execution_count": 43,
   "metadata": {
    "tags": []
   },
   "outputs": [
    {
     "name": "stderr",
     "output_type": "stream",
     "text": [
      "C:\\Users\\jesss\\AppData\\Local\\Temp\\ipykernel_15064\\1661587675.py:3: SettingWithCopyWarning: \n",
      "A value is trying to be set on a copy of a slice from a DataFrame.\n",
      "Try using .loc[row_indexer,col_indexer] = value instead\n",
      "\n",
      "See the caveats in the documentation: https://pandas.pydata.org/pandas-docs/stable/user_guide/indexing.html#returning-a-view-versus-a-copy\n",
      "  score_by_size_df[\"School Size\"] = pd.cut(total_students, size_bins, labels = size_labels, include_lowest=True)\n"
     ]
    },
    {
     "data": {
      "text/html": [
       "<div>\n",
       "<style scoped>\n",
       "    .dataframe tbody tr th:only-of-type {\n",
       "        vertical-align: middle;\n",
       "    }\n",
       "\n",
       "    .dataframe tbody tr th {\n",
       "        vertical-align: top;\n",
       "    }\n",
       "\n",
       "    .dataframe thead th {\n",
       "        text-align: right;\n",
       "    }\n",
       "</style>\n",
       "<table border=\"1\" class=\"dataframe\">\n",
       "  <thead>\n",
       "    <tr style=\"text-align: right;\">\n",
       "      <th></th>\n",
       "      <th>Total Students</th>\n",
       "      <th>Average Maths Score</th>\n",
       "      <th>Average Reading Score</th>\n",
       "      <th>% Passing Maths</th>\n",
       "      <th>% Passing Reading</th>\n",
       "      <th>% Overall Passing</th>\n",
       "      <th>School Size</th>\n",
       "    </tr>\n",
       "    <tr>\n",
       "      <th></th>\n",
       "      <th></th>\n",
       "      <th></th>\n",
       "      <th></th>\n",
       "      <th></th>\n",
       "      <th></th>\n",
       "      <th></th>\n",
       "      <th></th>\n",
       "    </tr>\n",
       "  </thead>\n",
       "  <tbody>\n",
       "    <tr>\n",
       "      <th>Bailey High School</th>\n",
       "      <td>4976</td>\n",
       "      <td>72.352894</td>\n",
       "      <td>71.008842</td>\n",
       "      <td>91.639871</td>\n",
       "      <td>87.379421</td>\n",
       "      <td>80.084405</td>\n",
       "      <td>Large (2000-5000)</td>\n",
       "    </tr>\n",
       "    <tr>\n",
       "      <th>Cabrera High School</th>\n",
       "      <td>1858</td>\n",
       "      <td>71.657158</td>\n",
       "      <td>71.359526</td>\n",
       "      <td>90.850377</td>\n",
       "      <td>89.074273</td>\n",
       "      <td>80.785791</td>\n",
       "      <td>Medium (1000-2000)</td>\n",
       "    </tr>\n",
       "    <tr>\n",
       "      <th>Figueroa High School</th>\n",
       "      <td>2949</td>\n",
       "      <td>68.698542</td>\n",
       "      <td>69.077993</td>\n",
       "      <td>81.654798</td>\n",
       "      <td>82.807731</td>\n",
       "      <td>67.650051</td>\n",
       "      <td>Large (2000-5000)</td>\n",
       "    </tr>\n",
       "    <tr>\n",
       "      <th>Ford High School</th>\n",
       "      <td>2739</td>\n",
       "      <td>69.091274</td>\n",
       "      <td>69.572472</td>\n",
       "      <td>82.438846</td>\n",
       "      <td>82.219788</td>\n",
       "      <td>67.469880</td>\n",
       "      <td>Large (2000-5000)</td>\n",
       "    </tr>\n",
       "    <tr>\n",
       "      <th>Griffin High School</th>\n",
       "      <td>1468</td>\n",
       "      <td>71.788147</td>\n",
       "      <td>71.245232</td>\n",
       "      <td>91.212534</td>\n",
       "      <td>88.487738</td>\n",
       "      <td>81.335150</td>\n",
       "      <td>Medium (1000-2000)</td>\n",
       "    </tr>\n",
       "  </tbody>\n",
       "</table>\n",
       "</div>"
      ],
      "text/plain": [
       "                      Total Students  Average Maths Score  \\\n",
       "                                                            \n",
       "Bailey High School              4976            72.352894   \n",
       "Cabrera High School             1858            71.657158   \n",
       "Figueroa High School            2949            68.698542   \n",
       "Ford High School                2739            69.091274   \n",
       "Griffin High School             1468            71.788147   \n",
       "\n",
       "                      Average Reading Score  % Passing Maths  \\\n",
       "                                                               \n",
       "Bailey High School                71.008842        91.639871   \n",
       "Cabrera High School               71.359526        90.850377   \n",
       "Figueroa High School              69.077993        81.654798   \n",
       "Ford High School                  69.572472        82.438846   \n",
       "Griffin High School               71.245232        91.212534   \n",
       "\n",
       "                      % Passing Reading  % Overall Passing         School Size  \n",
       "                                                                                \n",
       "Bailey High School            87.379421          80.084405   Large (2000-5000)  \n",
       "Cabrera High School           89.074273          80.785791  Medium (1000-2000)  \n",
       "Figueroa High School          82.807731          67.650051   Large (2000-5000)  \n",
       "Ford High School              82.219788          67.469880   Large (2000-5000)  \n",
       "Griffin High School           88.487738          81.335150  Medium (1000-2000)  "
      ]
     },
     "execution_count": 43,
     "metadata": {},
     "output_type": "execute_result"
    }
   ],
   "source": [
    "# Set a dataframe that summarises the information erquired and categorises each school by school size bins provided \n",
    "score_by_size_df = per_school_summary[[\"Total Students\", \"Average Maths Score\",\"Average Reading Score\",\"% Passing Maths\",\"% Passing Reading\", \"% Overall Passing\"]]\n",
    "score_by_size_df[\"School Size\"] = pd.cut(total_students, size_bins, labels = size_labels, include_lowest=True)\n",
    "score_by_size_df.head()"
   ]
  },
  {
   "cell_type": "code",
   "execution_count": 44,
   "metadata": {
    "tags": []
   },
   "outputs": [],
   "source": [
    "# Set variables per school \n",
    "size_maths_scores = score_by_size_df.groupby([\"School Size\"])[\"Average Maths Score\"].mean()\n",
    "size_reading_scores = score_by_size_df.groupby([\"School Size\"])[\"Average Reading Score\"].mean()\n",
    "size_passing_maths = score_by_size_df.groupby([\"School Size\"])[\"% Passing Maths\"].mean()\n",
    "size_passing_reading = score_by_size_df.groupby([\"School Size\"])[\"% Passing Reading\"].mean() \n",
    "overall_passing_size = score_by_size_df.groupby([\"School Size\"])[\"% Overall Passing\"].mean()"
   ]
  },
  {
   "cell_type": "code",
   "execution_count": 45,
   "metadata": {
    "tags": []
   },
   "outputs": [
    {
     "data": {
      "text/html": [
       "<div>\n",
       "<style scoped>\n",
       "    .dataframe tbody tr th:only-of-type {\n",
       "        vertical-align: middle;\n",
       "    }\n",
       "\n",
       "    .dataframe tbody tr th {\n",
       "        vertical-align: top;\n",
       "    }\n",
       "\n",
       "    .dataframe thead th {\n",
       "        text-align: right;\n",
       "    }\n",
       "</style>\n",
       "<table border=\"1\" class=\"dataframe\">\n",
       "  <thead>\n",
       "    <tr style=\"text-align: right;\">\n",
       "      <th></th>\n",
       "      <th>Average Maths Score</th>\n",
       "      <th>Average Reading Score</th>\n",
       "      <th>% Passing Maths</th>\n",
       "      <th>% Passing Reading</th>\n",
       "      <th>% Overall Passing</th>\n",
       "    </tr>\n",
       "    <tr>\n",
       "      <th>School Size</th>\n",
       "      <th></th>\n",
       "      <th></th>\n",
       "      <th></th>\n",
       "      <th></th>\n",
       "      <th></th>\n",
       "    </tr>\n",
       "  </thead>\n",
       "  <tbody>\n",
       "    <tr>\n",
       "      <th>Small (&lt;1000)</th>\n",
       "      <td>72.34</td>\n",
       "      <td>71.64</td>\n",
       "      <td>90.81</td>\n",
       "      <td>87.56</td>\n",
       "      <td>79.07</td>\n",
       "    </tr>\n",
       "    <tr>\n",
       "      <th>Medium (1000-2000)</th>\n",
       "      <td>71.42</td>\n",
       "      <td>70.72</td>\n",
       "      <td>89.85</td>\n",
       "      <td>86.71</td>\n",
       "      <td>78.04</td>\n",
       "    </tr>\n",
       "    <tr>\n",
       "      <th>Large (2000-5000)</th>\n",
       "      <td>69.75</td>\n",
       "      <td>69.58</td>\n",
       "      <td>84.25</td>\n",
       "      <td>83.30</td>\n",
       "      <td>70.29</td>\n",
       "    </tr>\n",
       "  </tbody>\n",
       "</table>\n",
       "</div>"
      ],
      "text/plain": [
       "                   Average Maths Score Average Reading Score % Passing Maths  \\\n",
       "School Size                                                                    \n",
       "Small (<1000)                    72.34                 71.64           90.81   \n",
       "Medium (1000-2000)               71.42                 70.72           89.85   \n",
       "Large (2000-5000)                69.75                 69.58           84.25   \n",
       "\n",
       "                   % Passing Reading % Overall Passing  \n",
       "School Size                                             \n",
       "Small (<1000)                  87.56             79.07  \n",
       "Medium (1000-2000)             86.71             78.04  \n",
       "Large (2000-5000)              83.30             70.29  "
      ]
     },
     "execution_count": 45,
     "metadata": {},
     "output_type": "execute_result"
    }
   ],
   "source": [
    "# Create a data frame called size_summary \n",
    "size_summary = pd.DataFrame({\n",
    "          \"Average Maths Score\" : size_maths_scores,\n",
    "          \"Average Reading Score\": size_reading_scores,\n",
    "          \"% Passing Maths\": size_passing_maths,\n",
    "          \"% Passing Reading\": size_passing_reading,\n",
    "          \"% Overall Passing\": overall_passing_size})\n",
    "\n",
    "#Format the data frame \n",
    "size_summary[\"Average Maths Score\"] = size_summary[\"Average Maths Score\"].map(\"{:.2f}\".format) \n",
    "size_summary[\"Average Reading Score\"] = size_summary[\"Average Reading Score\"].map(\"{:.2f}\".format) \n",
    "size_summary[\"% Passing Maths\"] = size_summary[\"% Passing Maths\"].map(\"{:.2f}\".format) \n",
    "size_summary[\"% Passing Reading\"] = size_summary[\"% Passing Reading\"].map(\"{:.2f}\".format) \n",
    "size_summary[\"% Overall Passing\"] = size_summary[\"% Overall Passing\"].map(\"{:.2f}\".format) \n",
    "size_summary.head()"
   ]
  },
  {
   "cell_type": "markdown",
   "metadata": {},
   "source": [
    "* Perform the same operations as above, based on school size."
   ]
  },
  {
   "cell_type": "markdown",
   "metadata": {},
   "source": [
    "## Scores by School Type"
   ]
  },
  {
   "cell_type": "code",
   "execution_count": 46,
   "metadata": {
    "tags": []
   },
   "outputs": [],
   "source": [
    "# Create a data frame that includes all the following columns School Type, Average Maths Score,Average Reading Score,% Passing Maths,% Passing Reading, % Overall Passing\n",
    "score_by_type_df = per_school_summary[[\"School Type\", \"Average Maths Score\",\"Average Reading Score\",\"% Passing Maths\",\"% Passing Reading\", \"% Overall Passing\"]]"
   ]
  },
  {
   "cell_type": "code",
   "execution_count": 47,
   "metadata": {
    "tags": []
   },
   "outputs": [],
   "source": [
    "# Set variables per school \n",
    "type_maths_scores = score_by_type_df.groupby([\"School Type\"])[\"Average Maths Score\"].mean()\n",
    "type_reading_scores = score_by_type_df.groupby([\"School Type\"])[\"Average Reading Score\"].mean()\n",
    "type_passing_maths = score_by_type_df.groupby([\"School Type\"])[\"% Passing Maths\"].mean()\n",
    "type_passing_reading = score_by_type_df.groupby([\"School Type\"])[\"% Passing Reading\"].mean() \n",
    "overall_passing_type = score_by_type_df.groupby([\"School Type\"])[\"% Overall Passing\"].mean()"
   ]
  },
  {
   "cell_type": "code",
   "execution_count": 48,
   "metadata": {
    "tags": []
   },
   "outputs": [
    {
     "data": {
      "text/html": [
       "<div>\n",
       "<style scoped>\n",
       "    .dataframe tbody tr th:only-of-type {\n",
       "        vertical-align: middle;\n",
       "    }\n",
       "\n",
       "    .dataframe tbody tr th {\n",
       "        vertical-align: top;\n",
       "    }\n",
       "\n",
       "    .dataframe thead th {\n",
       "        text-align: right;\n",
       "    }\n",
       "</style>\n",
       "<table border=\"1\" class=\"dataframe\">\n",
       "  <thead>\n",
       "    <tr style=\"text-align: right;\">\n",
       "      <th></th>\n",
       "      <th>Average Maths Score</th>\n",
       "      <th>Average Reading Score</th>\n",
       "      <th>% Passing Maths</th>\n",
       "      <th>% Passing Reading</th>\n",
       "      <th>% Overall Passing</th>\n",
       "    </tr>\n",
       "    <tr>\n",
       "      <th>School Type</th>\n",
       "      <th></th>\n",
       "      <th></th>\n",
       "      <th></th>\n",
       "      <th></th>\n",
       "      <th></th>\n",
       "    </tr>\n",
       "  </thead>\n",
       "  <tbody>\n",
       "    <tr>\n",
       "      <th>Government</th>\n",
       "      <td>69.83</td>\n",
       "      <td>69.68</td>\n",
       "      <td>84.46</td>\n",
       "      <td>83.59</td>\n",
       "      <td>70.70</td>\n",
       "    </tr>\n",
       "    <tr>\n",
       "      <th>Independent</th>\n",
       "      <td>71.37</td>\n",
       "      <td>70.72</td>\n",
       "      <td>89.20</td>\n",
       "      <td>86.25</td>\n",
       "      <td>76.97</td>\n",
       "    </tr>\n",
       "  </tbody>\n",
       "</table>\n",
       "</div>"
      ],
      "text/plain": [
       "            Average Maths Score Average Reading Score % Passing Maths  \\\n",
       "School Type                                                             \n",
       "Government                69.83                 69.68           84.46   \n",
       "Independent               71.37                 70.72           89.20   \n",
       "\n",
       "            % Passing Reading % Overall Passing  \n",
       "School Type                                      \n",
       "Government              83.59             70.70  \n",
       "Independent             86.25             76.97  "
      ]
     },
     "execution_count": 48,
     "metadata": {},
     "output_type": "execute_result"
    }
   ],
   "source": [
    "# Create a dataframe to summarise scores by school type \n",
    "type_summary = pd.DataFrame({\n",
    "          \"Average Maths Score\" : type_maths_scores,\n",
    "          \"Average Reading Score\": type_reading_scores,\n",
    "          \"% Passing Maths\": type_passing_maths,\n",
    "          \"% Passing Reading\": type_passing_reading,\n",
    "          \"% Overall Passing\": overall_passing_type})\n",
    "\n",
    "#Format the dataframe \n",
    "type_summary[\"Average Maths Score\"] = type_summary[\"Average Maths Score\"].map(\"{:.2f}\".format) \n",
    "type_summary[\"Average Reading Score\"] = type_summary[\"Average Reading Score\"].map(\"{:.2f}\".format) \n",
    "type_summary[\"% Passing Maths\"] = type_summary[\"% Passing Maths\"].map(\"{:.2f}\".format) \n",
    "type_summary[\"% Passing Reading\"] = type_summary[\"% Passing Reading\"].map(\"{:.2f}\".format) \n",
    "type_summary[\"% Overall Passing\"] = type_summary[\"% Overall Passing\"].map(\"{:.2f}\".format) \n",
    "\n",
    "type_summary.head()"
   ]
  },
  {
   "cell_type": "code",
   "execution_count": 49,
   "metadata": {},
   "outputs": [],
   "source": [
    "#yay! "
   ]
  },
  {
   "cell_type": "code",
   "execution_count": null,
   "metadata": {},
   "outputs": [],
   "source": []
  }
 ],
 "metadata": {
  "anaconda-cloud": {},
  "kernel_info": {
   "name": "python3"
  },
  "kernelspec": {
   "display_name": "“PythonData”",
   "language": "python",
   "name": "pythondata"
  },
  "language_info": {
   "codemirror_mode": {
    "name": "ipython",
    "version": 3
   },
   "file_extension": ".py",
   "mimetype": "text/x-python",
   "name": "python",
   "nbconvert_exporter": "python",
   "pygments_lexer": "ipython3",
   "version": "3.11.4"
  },
  "latex_envs": {
   "LaTeX_envs_menu_present": true,
   "autoclose": false,
   "autocomplete": true,
   "bibliofile": "biblio.bib",
   "cite_by": "apalike",
   "current_citInitial": 1,
   "eqLabelWithNumbers": true,
   "eqNumInitial": 1,
   "hotkeys": {
    "equation": "Ctrl-E",
    "itemize": "Ctrl-I"
   },
   "labels_anchors": false,
   "latex_user_defs": false,
   "report_style_numbering": false,
   "user_envs_cfg": false
  },
  "nteract": {
   "version": "0.8.4"
  }
 },
 "nbformat": 4,
 "nbformat_minor": 4
}
