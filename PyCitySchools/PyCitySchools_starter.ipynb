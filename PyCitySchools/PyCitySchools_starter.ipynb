{
 "cells": [
  {
   "cell_type": "markdown",
   "metadata": {},
   "source": [
    "### Note\n",
    "* Instructions have been included for each segment. You do not have to follow them exactly, but they are included to help you think through the steps."
   ]
  },
  {
   "cell_type": "code",
   "execution_count": null,
   "metadata": {
    "tags": []
   },
   "outputs": [],
   "source": [
    "# Dependencies and Setup\n",
    "import pandas as pd\n",
    "from pathlib import Path\n",
    "\n",
    "# File to Load (Remember to Change These)\n",
    "school_data_to_load = Path(\"Resources/schools_complete.csv\")\n",
    "student_data_to_load = Path(\"Resources/students_complete.csv\")\n",
    "\n",
    "# Read School and Student Data File and store into Pandas DataFrames\n",
    "school_data = pd.read_csv(school_data_to_load)\n",
    "student_data = pd.read_csv(student_data_to_load)\n",
    "\n",
    "# Combine the data into a single dataset.  \n",
    "school_data_complete = pd.merge(student_data, school_data, how=\"left\", on=[\"school_name\", \"school_name\"])"
   ]
  },
  {
   "cell_type": "code",
   "execution_count": null,
   "metadata": {
    "tags": []
   },
   "outputs": [],
   "source": [
    "#Check data frame import \n",
    "school_data_complete.head()"
   ]
  },
  {
   "cell_type": "markdown",
   "metadata": {
    "jp-MarkdownHeadingCollapsed": true,
    "tags": []
   },
   "source": [
    "## Local Government Area Summary\n",
    "\n",
    "* Calculate the total number of schools\n",
    "\n",
    "* Calculate the total number of students\n",
    "\n",
    "* Calculate the total budget\n",
    "\n",
    "* Calculate the average maths score \n",
    "\n",
    "* Calculate the average reading score\n",
    "\n",
    "* Calculate the percentage of students with a passing maths score (50 or greater)\n",
    "\n",
    "* Calculate the percentage of students with a passing reading score (50 or greater)\n",
    "\n",
    "* Calculate the percentage of students who passed maths **and** reading (% Overall Passing)\n",
    "\n",
    "* Create a dataframe to hold the above results\n",
    "\n",
    "* Optional: give the displayed data cleaner formatting"
   ]
  },
  {
   "cell_type": "code",
   "execution_count": null,
   "metadata": {
    "tags": []
   },
   "outputs": [],
   "source": [
    "#Check both dataframes have same number of schools \n",
    "print(len(school_data[\"school_name\"].unique()))\n",
    "print(len(school_data_complete[\"school_name\"].unique()))"
   ]
  },
  {
   "cell_type": "code",
   "execution_count": null,
   "metadata": {
    "tags": []
   },
   "outputs": [],
   "source": [
    "#Calculate the total number of schools \n",
    "total_schools= len(school_data_complete[\"school_name\"].value_counts())\n",
    "total_schools"
   ]
  },
  {
   "cell_type": "code",
   "execution_count": null,
   "metadata": {
    "tags": []
   },
   "outputs": [],
   "source": [
    "#Calculate the total number of students\n",
    "total_students = len(school_data_complete[\"Student ID\"].value_counts())\n",
    "total_students"
   ]
  },
  {
   "cell_type": "code",
   "execution_count": null,
   "metadata": {
    "tags": []
   },
   "outputs": [],
   "source": [
    "#Calculate the total budget \n",
    "total_budget = school_data[\"budget\"].sum()\n",
    "total_budget"
   ]
  },
  {
   "cell_type": "code",
   "execution_count": null,
   "metadata": {
    "tags": []
   },
   "outputs": [],
   "source": [
    "#Calculate the average math score \n",
    "average_maths_score = school_data_complete[\"maths_score\"].mean()\n",
    "average_maths_score"
   ]
  },
  {
   "cell_type": "code",
   "execution_count": null,
   "metadata": {
    "tags": []
   },
   "outputs": [],
   "source": [
    "#Calculate the average reading score\n",
    "average_reading_score = school_data_complete[\"reading_score\"].mean()\n",
    "average_reading_score"
   ]
  },
  {
   "cell_type": "code",
   "execution_count": null,
   "metadata": {
    "tags": []
   },
   "outputs": [],
   "source": [
    "#Calculate the percentage of students with a passing math score (>=50) \n",
    "maths_pass = school_data_complete[\"maths_score\"] >=50\n",
    "pass_maths_percentage = (maths_pass.sum()/total_students)*100\n",
    "pass_maths_percentage"
   ]
  },
  {
   "cell_type": "code",
   "execution_count": null,
   "metadata": {
    "tags": []
   },
   "outputs": [],
   "source": [
    "#Calculate the percentage of students with a passing reading score (>=50) \n",
    "reading_pass= school_data_complete[\"reading_score\"] >=50\n",
    "pass_reading_percentage = (reading_pass.sum()/total_students)*100\n",
    "pass_reading_percentage"
   ]
  },
  {
   "cell_type": "code",
   "execution_count": null,
   "metadata": {
    "tags": []
   },
   "outputs": [],
   "source": [
    "#Calculate the percentage of students who passed both maths and reading (%Overall Passing) \n",
    "pass_both_total = ((maths_pass) & (reading_pass)).sum()\n",
    "pass_both_percentage = (pass_both_total/total_students)*100\n",
    "pass_both_percentage"
   ]
  },
  {
   "cell_type": "code",
   "execution_count": null,
   "metadata": {
    "tags": []
   },
   "outputs": [],
   "source": [
    "#Create a dataframge to hold the LGA Summary called area_summary \n",
    "area_summary = {\"Total Schools\" : total_schools,\n",
    "                            \"Total Students\": [total_students],\n",
    "                            \"Total Budget\": total_budget,\n",
    "                            \"Average Maths Score\" : average_maths_score,\n",
    "                            \"Average Reading Score\" : average_reading_score,\n",
    "                            \"Passing Maths (%)\" : pass_maths_percentage,\n",
    "                            \"Passing Reading (%)\": pass_reading_percentage,\n",
    "                            \"Overall Passing (%)\" : pass_both_percentage}\n",
    "area_summary = pd.DataFrame(area_summary)\n",
    "\n",
    "area_summary[\"Total Students\"] = area_summary[\"Total Students\"].map(\"{:,}\".format)\n",
    "area_summary[\"Total Budget\"] = area_summary[\"Total Budget\"].map(\"${:,}\".format)\n",
    "area_summary[\"Average Maths Score\"] = area_summary[\"Average Maths Score\"].map(\"{:,.2f}%\".format)\n",
    "area_summary[\"Average Reading Score\"] = area_summary[\"Average Reading Score\"].map(\"{:,.2f}%\".format)\n",
    "area_summary[\"Passing Maths (%)\"] = area_summary[\"Passing Maths (%)\"].map(\"{:,.2f}%\".format)\n",
    "area_summary[\"Passing Reading (%)\"] = area_summary[\"Passing Reading (%)\"].map(\"{:,.2f}%\".format)\n",
    "area_summary[\"Overall Passing (%)\"] =area_summary[\"Overall Passing (%)\"].map(\"{:,.2f}%\".format)\n",
    "\n",
    "area_summary"
   ]
  },
  {
   "cell_type": "markdown",
   "metadata": {
    "tags": []
   },
   "source": [
    "## School Summary"
   ]
  },
  {
   "cell_type": "markdown",
   "metadata": {},
   "source": [
    "* Create an overview table that summarises key metrics about each school, including:\n",
    "  * School Name\n",
    "  * School Type\n",
    "  * Total Students\n",
    "  * Total School Budget\n",
    "  * Per Student Budget\n",
    "  * Average Maths Score\n",
    "  * Average Reading Score\n",
    "  * % Passing Maths\n",
    "  * % Passing Reading\n",
    "  * % Overall Passing (The percentage of students that passed maths **and** reading.)\n",
    "  \n",
    "* Create a dataframe to hold the above results"
   ]
  },
  {
   "cell_type": "code",
   "execution_count": null,
   "metadata": {
    "tags": []
   },
   "outputs": [],
   "source": [
    "# Set school name as index and retrieve type values\n",
    "school_type = school_data.set_index([\"school_name\"])[\"type\"]"
   ]
  },
  {
   "cell_type": "code",
   "execution_count": null,
   "metadata": {
    "tags": []
   },
   "outputs": [],
   "source": [
    "# Set a variable for total_students \n",
    "total_students = school_data_complete['school_name'].value_counts()\n",
    "total_students"
   ]
  },
  {
   "cell_type": "code",
   "execution_count": null,
   "metadata": {
    "tags": []
   },
   "outputs": [],
   "source": [
    "# Set a Variable for total school budget \n",
    "total_school_budget = school_data_complete.groupby([\"school_name\"])[\"budget\"].mean()\n",
    "total_school_budget"
   ]
  },
  {
   "cell_type": "code",
   "execution_count": null,
   "metadata": {
    "tags": []
   },
   "outputs": [],
   "source": [
    "# Set a variable to calculate budget per student\n",
    "per_student_budget = total_school_budget/total_students\n",
    "per_student_budget"
   ]
  },
  {
   "cell_type": "code",
   "execution_count": null,
   "metadata": {
    "tags": []
   },
   "outputs": [],
   "source": [
    "# Set a variable to calculate the average maths score per school \n",
    "average_maths_score = school_data_complete.groupby([\"school_name\"])[\"maths_score\"].mean()\n",
    "average_maths_score"
   ]
  },
  {
   "cell_type": "code",
   "execution_count": null,
   "metadata": {
    "tags": []
   },
   "outputs": [],
   "source": [
    "# Sert a variable to calculate the avaergae reading score per school \n",
    "average_reading_score = school_data_complete.groupby([\"school_name\"])[\"reading_score\"].mean()\n",
    "average_reading_score"
   ]
  },
  {
   "cell_type": "code",
   "execution_count": null,
   "metadata": {
    "tags": []
   },
   "outputs": [],
   "source": [
    "# Set a dataframe that shows all students that have passed maths  \n",
    "students_passing_maths = school_data_complete[school_data_complete[\"maths_score\"]>=50]\n",
    "students_passing_maths"
   ]
  },
  {
   "cell_type": "code",
   "execution_count": null,
   "metadata": {
    "tags": []
   },
   "outputs": [],
   "source": [
    "# Set a variable to calculate the total amount of students who passed maths per school  \n",
    "total_students_passing_maths = students_passing_maths.groupby([\"school_name\"]).size()\n",
    "total_students_passing_maths"
   ]
  },
  {
   "cell_type": "code",
   "execution_count": null,
   "metadata": {
    "tags": []
   },
   "outputs": [],
   "source": [
    "# Set a variable that calculates the percentage of students who passed maths \n",
    "percentage_students_passing_maths = (total_students_passing_maths/ total_students)*100\n",
    "percentage_students_passing_maths "
   ]
  },
  {
   "cell_type": "code",
   "execution_count": null,
   "metadata": {
    "tags": []
   },
   "outputs": [],
   "source": [
    "# Set a dataframe shows all students who passed reading \n",
    "students_passing_reading = school_data_complete[school_data_complete[\"reading_score\"]>=50]\n",
    "students_passing_reading.head()"
   ]
  },
  {
   "cell_type": "code",
   "execution_count": null,
   "metadata": {
    "tags": []
   },
   "outputs": [],
   "source": [
    "# Set a variable that calculates the amount of students who passed reading per school \n",
    "total_students_passing_reading = students_passing_reading.groupby([\"school_name\"]).size()\n",
    "total_students_passing_reading"
   ]
  },
  {
   "cell_type": "code",
   "execution_count": null,
   "metadata": {
    "tags": []
   },
   "outputs": [],
   "source": [
    "# Set a variable that calculates the percentage of students who passed reading per school \n",
    "percentage_students_passing_reading = (total_students_passing_reading/ total_students)*100\n",
    "percentage_students_passing_reading"
   ]
  },
  {
   "cell_type": "code",
   "execution_count": null,
   "metadata": {
    "tags": []
   },
   "outputs": [],
   "source": [
    "# Set a dataframe that combines all students who passed maths and reading. \n",
    "passing_both_df = school_data_complete[(school_data_complete[\"maths_score\"] >= 50) & (school_data_complete[\"reading_score\"] >= 50)]\n",
    "passing_both_df.head()"
   ]
  },
  {
   "cell_type": "code",
   "execution_count": null,
   "metadata": {
    "tags": []
   },
   "outputs": [],
   "source": [
    "# Set a variable that groups the students who passed both maths and reading per school \n",
    "passing_both = passing_both_df.groupby([\"school_name\"]).size()\n",
    "passing_both"
   ]
  },
  {
   "cell_type": "code",
   "execution_count": null,
   "metadata": {
    "tags": []
   },
   "outputs": [],
   "source": [
    "# Set a variable that calculates the percentage of students who passed both maths and reading per school \n",
    "percentage_overall_pass = (passing_both/total_students)*100\n",
    "percentage_overall_pass"
   ]
  },
  {
   "cell_type": "code",
   "execution_count": null,
   "metadata": {
    "tags": []
   },
   "outputs": [],
   "source": [
    "# Create a data frame calkled per_school_summary that summarise all information per school \n",
    "per_school_summary = pd.DataFrame({\n",
    "    \"School Type\": school_type,\n",
    "    \"Total Students\": total_students,\n",
    "    \"Total School Budget\": total_school_budget,\n",
    "    \"Per Student Budget\": per_student_budget,\n",
    "    \"Average Maths Score\":average_maths_score,\n",
    "    \"Average Reading Score\": average_reading_score,\n",
    "    \"% Passing Maths\": percentage_students_passing_maths,\n",
    "    \"% Passing Reading\": percentage_students_passing_reading,\n",
    "    \"% Overall Passing\": percentage_overall_pass\n",
    "})\n",
    "\n",
    "#Formatting Data in Total School Budget and Total School Budget\n",
    "per_school_summary.index.names=['']\n",
    "per_school_summary[\"Total School Budget\"] = per_school_summary[\"Total School Budget\"].map(\"${:,.2f}\".format)\n",
    "per_school_summary[\"Per Student Budget\"] = per_school_summary[\"Per Student Budget\"].map(\"${:.2f}\".format)\n",
    "\n",
    "per_school_summary.head()"
   ]
  },
  {
   "cell_type": "code",
   "execution_count": null,
   "metadata": {
    "tags": []
   },
   "outputs": [],
   "source": []
  },
  {
   "cell_type": "markdown",
   "metadata": {
    "tags": []
   },
   "source": [
    "## Top Performing Schools (By % Overall Passing)"
   ]
  },
  {
   "cell_type": "markdown",
   "metadata": {},
   "source": [
    "* Sort and display the top five performing schools by % overall passing."
   ]
  },
  {
   "cell_type": "code",
   "execution_count": null,
   "metadata": {
    "tags": []
   },
   "outputs": [],
   "source": [
    "# Create a dataframe that displays the top five performing schools by overall passing percentage \n",
    "top_overall_passing = per_school_summary.sort_values(\"% Overall Passing\", ascending=False)\n",
    "top_overall_passing.head()\n"
   ]
  },
  {
   "cell_type": "markdown",
   "metadata": {
    "tags": []
   },
   "source": [
    "## Bottom Performing Schools (By % Overall Passing)"
   ]
  },
  {
   "cell_type": "markdown",
   "metadata": {},
   "source": [
    "* Sort and display the five worst-performing schools by % overall passing."
   ]
  },
  {
   "cell_type": "code",
   "execution_count": null,
   "metadata": {
    "tags": []
   },
   "outputs": [],
   "source": [
    "# Create a dataframe that displays the bottom five performing schools by overall passing percentage \n",
    "bottom_school_overall = per_school_summary.sort_values(\"% Overall Passing\")\n",
    "bottom_school_overall.head()"
   ]
  },
  {
   "cell_type": "markdown",
   "metadata": {
    "tags": []
   },
   "source": [
    "## Maths Scores by Year"
   ]
  },
  {
   "cell_type": "markdown",
   "metadata": {},
   "source": [
    "* Create a table that lists the average maths score for students of each year level (9, 10, 11, 12) at each school.\n",
    "\n",
    "  * Create a pandas series for each year. Hint: use a conditional statement.\n",
    "  \n",
    "  * Group each series by school\n",
    "  \n",
    "  * Combine the series into a dataframe\n",
    "  \n",
    "  * Optional: give the displayed data cleaner formatting"
   ]
  },
  {
   "cell_type": "code",
   "execution_count": null,
   "metadata": {
    "tags": []
   },
   "outputs": [],
   "source": [
    "#Create and assign variable for each year level \n",
    "year_nine = school_data_complete[(school_data_complete[\"year\"] == 9)]\n",
    "year_ten = school_data_complete[(school_data_complete[\"year\"] == 10)]\n",
    "year_eleven = school_data_complete[(school_data_complete[\"year\"] == 11)]\n",
    "year_twelve = school_data_complete[(school_data_complete[\"year\"] == 12)]"
   ]
  },
  {
   "cell_type": "code",
   "execution_count": null,
   "metadata": {
    "tags": []
   },
   "outputs": [],
   "source": [
    "#Calculate and assign variables for each year level's average maths score \n",
    "year_nine_average_maths = year_nine.groupby([\"school_name\"])[\"maths_score\"].mean() \n",
    "year_ten_average_maths = year_ten.groupby([\"school_name\"])[\"maths_score\"].mean() \n",
    "year_eleven_average_maths = year_eleven.groupby([\"school_name\"])[\"maths_score\"].mean() \n",
    "year_twelve_average_maths = year_twelve.groupby([\"school_name\"])[\"maths_score\"].mean() "
   ]
  },
  {
   "cell_type": "code",
   "execution_count": null,
   "metadata": {
    "tags": []
   },
   "outputs": [],
   "source": [
    "#Combine the series into a data frame \n",
    "maths_by_year = pd.DataFrame({\n",
    "    \"Year 9\" : year_nine_average_maths,\n",
    "    \"Year 10\" : year_ten_average_maths,\n",
    "    \"Year 11\" : year_eleven_average_maths,\n",
    "    \"Year 12\" : year_twelve_average_maths,\n",
    "})\n",
    "\n",
    "#Format the data frame \n",
    "maths_by_year.index.names=['']\n",
    "maths_by_year[\"Year 9\"] = maths_by_year[\"Year 9\"].map(\"{:.2f}%\".format)\n",
    "maths_by_year[\"Year 10\"] = maths_by_year[\"Year 10\"].map(\"{:.2f}%\".format)\n",
    "maths_by_year[\"Year 11\"] = maths_by_year[\"Year 11\"].map(\"{:.2f}%\".format)\n",
    "maths_by_year[\"Year 12\"] = maths_by_year[\"Year 12\"].map(\"{:.2f}%\".format)\n",
    "maths_by_year\n"
   ]
  },
  {
   "cell_type": "markdown",
   "metadata": {
    "tags": []
   },
   "source": [
    "## Reading Score by Year"
   ]
  },
  {
   "cell_type": "markdown",
   "metadata": {},
   "source": [
    "* Perform the same operations as above for reading scores"
   ]
  },
  {
   "cell_type": "code",
   "execution_count": null,
   "metadata": {
    "tags": []
   },
   "outputs": [],
   "source": [
    "#Calculate and assign variables for each year level's average reading score \n",
    "year_nine_average_reading = year_nine.groupby([\"school_name\"])[\"reading_score\"].mean() \n",
    "year_ten_average_reading = year_ten.groupby([\"school_name\"])[\"reading_score\"].mean() \n",
    "year_eleven_average_reading = year_eleven.groupby([\"school_name\"])[\"reading_score\"].mean() \n",
    "year_twelve_average_reading = year_twelve.groupby([\"school_name\"])[\"reading_score\"].mean() "
   ]
  },
  {
   "cell_type": "code",
   "execution_count": null,
   "metadata": {
    "tags": []
   },
   "outputs": [],
   "source": [
    "#Combine the series into a data frame \n",
    "reading_by_year = pd.DataFrame({\n",
    "    \"Year 9\" : year_nine_average_reading,\n",
    "    \"Year 10\" : year_ten_average_reading,\n",
    "    \"Year 11\" : year_eleven_average_reading,\n",
    "    \"Year 12\" : year_twelve_average_reading,\n",
    "})\n",
    "\n",
    "#Format the data frame \n",
    "reading_by_year.index.names=['']\n",
    "reading_by_year[\"Year 9\"] = reading_by_year[\"Year 9\"].map(\"{:.2f}%\".format)\n",
    "reading_by_year[\"Year 10\"] = reading_by_year[\"Year 10\"].map(\"{:.2f}%\".format)\n",
    "reading_by_year[\"Year 11\"] = reading_by_year[\"Year 11\"].map(\"{:.2f}%\".format)\n",
    "reading_by_year[\"Year 12\"] = reading_by_year[\"Year 12\"].map(\"{:.2f}%\".format)\n",
    "\n",
    "reading_by_year\n"
   ]
  },
  {
   "cell_type": "markdown",
   "metadata": {},
   "source": [
    "## Scores by School Spending"
   ]
  },
  {
   "cell_type": "markdown",
   "metadata": {},
   "source": [
    "* Create a table that breaks down school performances based on average Spending Ranges (Per Student). Use 4 reasonable bins to group school spending. Include in the table each of the following:\n",
    "  * Average Maths Score\n",
    "  * Average Reading Score\n",
    "  * % Passing Maths\n",
    "  * % Passing Reading\n",
    "  * Overall Passing Rate (Average of the above two)"
   ]
  },
  {
   "cell_type": "code",
   "execution_count": null,
   "metadata": {
    "tags": []
   },
   "outputs": [],
   "source": [
    "# Establish bins for spending per student \n",
    "spending_bins = [0, 585, 630, 645, 680]\n",
    "labels = [\"<$585\", \"$585-630\", \"$630-645\", \"$645-680\"]"
   ]
  },
  {
   "cell_type": "code",
   "execution_count": null,
   "metadata": {
    "tags": []
   },
   "outputs": [],
   "source": [
    "# Set a dataframe that summarises the school spending and categorises each school by bins provided \n",
    "school_spending_df = per_school_summary[[\"Per Student Budget\", \"Average Maths Score\",\"Average Reading Score\",\"% Passing Maths\",\"% Passing Reading\", \"% Overall Passing\"]]\n",
    "school_spending_df[\"Spending Ranges (Per Student)\"] = pd.cut(per_student_budget,spending_bins, labels = labels, include_lowest=True)\n",
    "school_spending_df.head()"
   ]
  },
  {
   "cell_type": "code",
   "execution_count": null,
   "metadata": {
    "tags": []
   },
   "outputs": [],
   "source": [
    "# Set variables for each average % in maths per school \n",
    "spending_math_scores = school_spending_df.groupby([\"Spending Ranges (Per Student)\"])[\"Average Maths Score\"].mean()\n",
    "spending_reading_scores = school_spending_df.groupby([\"Spending Ranges (Per Student)\"])[\"Average Reading Score\"].mean()\n",
    "spending_passing_math = school_spending_df.groupby([\"Spending Ranges (Per Student)\"])[\"% Passing Maths\"].mean()\n",
    "spending_passing_reading = school_spending_df.groupby([\"Spending Ranges (Per Student)\"])[\"% Passing Reading\"].mean()\n",
    "overall_passing_spending = school_spending_df.groupby([\"Spending Ranges (Per Student)\"])[\"% Overall Passing\"].mean()"
   ]
  },
  {
   "cell_type": "code",
   "execution_count": null,
   "metadata": {
    "tags": []
   },
   "outputs": [],
   "source": [
    "# Create at data frame called spending_summary that summarises the average spending range per student \n",
    "spending_summary = pd.DataFrame({\n",
    "    \"Average Maths Score\" : spending_math_scores,\n",
    "    \"Average Reading Score\" : spending_reading_scores,\n",
    "    \"% Passing Maths\" :spending_passing_math,\n",
    "    \"% Passing Reading\" : spending_passing_reading,\n",
    "    \"% Overall Passing\" : overall_passing_spending\n",
    "})\n",
    "\n",
    "#Format the data frame \n",
    "spending_summary[\"Average Maths Score\"] = spending_summary[\"Average Maths Score\"].map(\"{:.2f}\".format) \n",
    "spending_summary[\"Average Reading Score\"] = spending_summary[\"Average Reading Score\"].map(\"{:.2f}\".format) \n",
    "spending_summary[\"% Passing Maths\"] = spending_summary[\"% Passing Maths\"].map(\"{:.2f}\".format) \n",
    "spending_summary[\"% Passing Reading\"] = spending_summary[\"% Passing Reading\"].map(\"{:.2f}\".format) \n",
    "spending_summary[\"% Overall Passing\"] = spending_summary[\"% Overall Passing\"].map(\"{:.2f}\".format) \n",
    "spending_summary = spending_summary.groupby(\"Spending Ranges (Per Student)\")\n",
    "spending_summary.max()"
   ]
  },
  {
   "cell_type": "markdown",
   "metadata": {},
   "source": [
    "## Scores by School Size"
   ]
  },
  {
   "cell_type": "code",
   "execution_count": null,
   "metadata": {
    "tags": []
   },
   "outputs": [],
   "source": [
    "#Establish Bins for School Size \n",
    "size_bins = [0, 1000, 2000, 5000]\n",
    "size_labels = [\"Small (<1000)\", \"Medium (1000-2000)\", \"Large (2000-5000)\"]"
   ]
  },
  {
   "cell_type": "code",
   "execution_count": null,
   "metadata": {
    "tags": []
   },
   "outputs": [],
   "source": [
    "# Set a dataframe that summarises the information erquired and categorises each school by school size bins provided \n",
    "score_by_size_df = per_school_summary[[\"Total Students\", \"Average Maths Score\",\"Average Reading Score\",\"% Passing Maths\",\"% Passing Reading\", \"% Overall Passing\"]]\n",
    "score_by_size_df[\"School Size\"] = pd.cut(total_students, size_bins, labels = size_labels, include_lowest=True)\n",
    "score_by_size_df.head()"
   ]
  },
  {
   "cell_type": "code",
   "execution_count": null,
   "metadata": {
    "tags": []
   },
   "outputs": [],
   "source": [
    "# Set variables per school \n",
    "size_maths_scores = score_by_size_df.groupby([\"School Size\"])[\"Average Maths Score\"].mean()\n",
    "size_reading_scores = score_by_size_df.groupby([\"School Size\"])[\"Average Reading Score\"].mean()\n",
    "size_passing_maths = score_by_size_df.groupby([\"School Size\"])[\"% Passing Maths\"].mean()\n",
    "size_passing_reading = score_by_size_df.groupby([\"School Size\"])[\"% Passing Reading\"].mean() \n",
    "overall_passing_size = score_by_size_df.groupby([\"School Size\"])[\"% Overall Passing\"].mean()"
   ]
  },
  {
   "cell_type": "code",
   "execution_count": null,
   "metadata": {
    "tags": []
   },
   "outputs": [],
   "source": [
    "# Create a data frame called size_summary \n",
    "size_summary = pd.DataFrame({\n",
    "          \"Average Maths Score\" : size_maths_scores,\n",
    "          \"Average Reading Score\": size_reading_scores,\n",
    "          \"% Passing Maths\": size_passing_maths,\n",
    "          \"% Passing Reading\": size_passing_reading,\n",
    "          \"% Overall Passing\": overall_passing_size})\n",
    "\n",
    "#Format the data frame \n",
    "size_summary[\"Average Maths Score\"] = size_summary[\"Average Maths Score\"].map(\"{:.2f}\".format) \n",
    "size_summary[\"Average Reading Score\"] = size_summary[\"Average Reading Score\"].map(\"{:.2f}\".format) \n",
    "size_summary[\"% Passing Maths\"] = size_summary[\"% Passing Maths\"].map(\"{:.2f}\".format) \n",
    "size_summary[\"% Passing Reading\"] = size_summary[\"% Passing Reading\"].map(\"{:.2f}\".format) \n",
    "size_summary[\"% Overall Passing\"] = size_summary[\"% Overall Passing\"].map(\"{:.2f}\".format) \n",
    "size_summary.head()"
   ]
  },
  {
   "cell_type": "markdown",
   "metadata": {},
   "source": [
    "* Perform the same operations as above, based on school size."
   ]
  },
  {
   "cell_type": "markdown",
   "metadata": {},
   "source": [
    "## Scores by School Type"
   ]
  },
  {
   "cell_type": "code",
   "execution_count": null,
   "metadata": {
    "tags": []
   },
   "outputs": [],
   "source": [
    "# Create a data frame that includes all the following columns School Type, Average Maths Score,Average Reading Score,% Passing Maths,% Passing Reading, % Overall Passing\n",
    "score_by_type_df = per_school_summary[[\"School Type\", \"Average Maths Score\",\"Average Reading Score\",\"% Passing Maths\",\"% Passing Reading\", \"% Overall Passing\"]]"
   ]
  },
  {
   "cell_type": "code",
   "execution_count": null,
   "metadata": {
    "tags": []
   },
   "outputs": [],
   "source": [
    "# Set variables per school \n",
    "type_maths_scores = score_by_type_df.groupby([\"School Type\"])[\"Average Maths Score\"].mean()\n",
    "type_reading_scores = score_by_type_df.groupby([\"School Type\"])[\"Average Reading Score\"].mean()\n",
    "type_passing_maths = score_by_type_df.groupby([\"School Type\"])[\"% Passing Maths\"].mean()\n",
    "type_passing_reading = score_by_type_df.groupby([\"School Type\"])[\"% Passing Reading\"].mean() \n",
    "overall_passing_type = score_by_type_df.groupby([\"School Type\"])[\"% Overall Passing\"].mean()"
   ]
  },
  {
   "cell_type": "code",
   "execution_count": null,
   "metadata": {
    "tags": []
   },
   "outputs": [],
   "source": [
    "# Create a dataframe to summarise scores by school type \n",
    "type_summary = pd.DataFrame({\n",
    "          \"Average Maths Score\" : type_maths_scores,\n",
    "          \"Average Reading Score\": type_reading_scores,\n",
    "          \"% Passing Maths\": type_passing_maths,\n",
    "          \"% Passing Reading\": type_passing_reading,\n",
    "          \"% Overall Passing\": overall_passing_type})\n",
    "\n",
    "#Format the dataframe \n",
    "type_summary[\"Average Maths Score\"] = type_summary[\"Average Maths Score\"].map(\"{:.2f}\".format) \n",
    "type_summary[\"Average Reading Score\"] = type_summary[\"Average Reading Score\"].map(\"{:.2f}\".format) \n",
    "type_summary[\"% Passing Maths\"] = type_summary[\"% Passing Maths\"].map(\"{:.2f}\".format) \n",
    "type_summary[\"% Passing Reading\"] = type_summary[\"% Passing Reading\"].map(\"{:.2f}\".format) \n",
    "type_summary[\"% Overall Passing\"] = type_summary[\"% Overall Passing\"].map(\"{:.2f}\".format) \n",
    "\n",
    "type_summary.head()"
   ]
  },
  {
   "cell_type": "code",
   "execution_count": null,
   "metadata": {},
   "outputs": [],
   "source": [
    "#yay! "
   ]
  }
 ],
 "metadata": {
  "anaconda-cloud": {},
  "kernel_info": {
   "name": "python3"
  },
  "kernelspec": {
   "display_name": "“PythonData”",
   "language": "python",
   "name": "pythondata"
  },
  "language_info": {
   "codemirror_mode": {
    "name": "ipython",
    "version": 3
   },
   "file_extension": ".py",
   "mimetype": "text/x-python",
   "name": "python",
   "nbconvert_exporter": "python",
   "pygments_lexer": "ipython3",
   "version": "3.11.4"
  },
  "latex_envs": {
   "LaTeX_envs_menu_present": true,
   "autoclose": false,
   "autocomplete": true,
   "bibliofile": "biblio.bib",
   "cite_by": "apalike",
   "current_citInitial": 1,
   "eqLabelWithNumbers": true,
   "eqNumInitial": 1,
   "hotkeys": {
    "equation": "Ctrl-E",
    "itemize": "Ctrl-I"
   },
   "labels_anchors": false,
   "latex_user_defs": false,
   "report_style_numbering": false,
   "user_envs_cfg": false
  },
  "nteract": {
   "version": "0.8.4"
  }
 },
 "nbformat": 4,
 "nbformat_minor": 4
}
